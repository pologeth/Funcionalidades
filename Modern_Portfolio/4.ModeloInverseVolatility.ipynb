{
 "cells": [
  {
   "cell_type": "markdown",
   "metadata": {},
   "source": [
    "# <span style=\"color:Red\">Modelo Inverse Volatility</span>"
   ]
  },
  {
   "cell_type": "code",
   "execution_count": 1,
   "metadata": {},
   "outputs": [],
   "source": [
    "\n",
    "import numpy as np\n",
    "import pandas as pd\n",
    "import matplotlib.pyplot as plt\n",
    "import seaborn as sns"
   ]
  },
  {
   "cell_type": "code",
   "execution_count": 2,
   "metadata": {},
   "outputs": [],
   "source": [
    "\n",
    "retornos = pd.read_csv('data/returns_selected.csv',index_col=0)\n",
    "retornos.index.names = ['Date']\n",
    "retornos.index = pd.to_datetime(retornos.index)"
   ]
  },
  {
   "cell_type": "code",
   "execution_count": 3,
   "metadata": {},
   "outputs": [
    {
     "data": {
      "text/html": [
       "<div>\n",
       "<style scoped>\n",
       "    .dataframe tbody tr th:only-of-type {\n",
       "        vertical-align: middle;\n",
       "    }\n",
       "\n",
       "    .dataframe tbody tr th {\n",
       "        vertical-align: top;\n",
       "    }\n",
       "\n",
       "    .dataframe thead th {\n",
       "        text-align: right;\n",
       "    }\n",
       "</style>\n",
       "<table border=\"1\" class=\"dataframe\">\n",
       "  <thead>\n",
       "    <tr style=\"text-align: right;\">\n",
       "      <th></th>\n",
       "      <th>LU0272423913</th>\n",
       "      <th>LU0474536744</th>\n",
       "      <th>LU0147408487</th>\n",
       "      <th>LU1160359102</th>\n",
       "      <th>LU1160358633</th>\n",
       "      <th>IE0004866889</th>\n",
       "      <th>LU0966156712</th>\n",
       "      <th>LU1048657123</th>\n",
       "      <th>LU0966156399</th>\n",
       "      <th>IE00B03HCY54</th>\n",
       "      <th>...</th>\n",
       "      <th>IE00BLY1N519</th>\n",
       "      <th>IE00BLY27S52</th>\n",
       "      <th>LU0963986467</th>\n",
       "      <th>LU0858297186</th>\n",
       "      <th>IE00BLWF5D72</th>\n",
       "      <th>IE00BLWF5F96</th>\n",
       "      <th>IE00BHCR9339</th>\n",
       "      <th>IE00BCRY5R01</th>\n",
       "      <th>LU0858297772</th>\n",
       "      <th>LU0963987275</th>\n",
       "    </tr>\n",
       "    <tr>\n",
       "      <th>Date</th>\n",
       "      <th></th>\n",
       "      <th></th>\n",
       "      <th></th>\n",
       "      <th></th>\n",
       "      <th></th>\n",
       "      <th></th>\n",
       "      <th></th>\n",
       "      <th></th>\n",
       "      <th></th>\n",
       "      <th></th>\n",
       "      <th></th>\n",
       "      <th></th>\n",
       "      <th></th>\n",
       "      <th></th>\n",
       "      <th></th>\n",
       "      <th></th>\n",
       "      <th></th>\n",
       "      <th></th>\n",
       "      <th></th>\n",
       "      <th></th>\n",
       "      <th></th>\n",
       "    </tr>\n",
       "  </thead>\n",
       "  <tbody>\n",
       "    <tr>\n",
       "      <th>2016-01-06</th>\n",
       "      <td>-0.014990</td>\n",
       "      <td>-0.002037</td>\n",
       "      <td>-0.015796</td>\n",
       "      <td>-0.024757</td>\n",
       "      <td>-0.024781</td>\n",
       "      <td>-0.004787</td>\n",
       "      <td>-0.012550</td>\n",
       "      <td>-0.012539</td>\n",
       "      <td>-0.012622</td>\n",
       "      <td>0.0</td>\n",
       "      <td>...</td>\n",
       "      <td>-0.001022</td>\n",
       "      <td>-0.000932</td>\n",
       "      <td>0.000582</td>\n",
       "      <td>0.000619</td>\n",
       "      <td>-0.001010</td>\n",
       "      <td>-0.001013</td>\n",
       "      <td>0.000707</td>\n",
       "      <td>0.000683</td>\n",
       "      <td>0.000507</td>\n",
       "      <td>0.000606</td>\n",
       "    </tr>\n",
       "    <tr>\n",
       "      <th>2016-01-07</th>\n",
       "      <td>-0.022914</td>\n",
       "      <td>-0.040227</td>\n",
       "      <td>-0.022918</td>\n",
       "      <td>-0.037041</td>\n",
       "      <td>-0.037004</td>\n",
       "      <td>-0.051189</td>\n",
       "      <td>-0.025975</td>\n",
       "      <td>-0.025978</td>\n",
       "      <td>-0.025975</td>\n",
       "      <td>0.0</td>\n",
       "      <td>...</td>\n",
       "      <td>-0.001023</td>\n",
       "      <td>-0.001222</td>\n",
       "      <td>0.001066</td>\n",
       "      <td>-0.001134</td>\n",
       "      <td>-0.002022</td>\n",
       "      <td>-0.001014</td>\n",
       "      <td>-0.001566</td>\n",
       "      <td>-0.001588</td>\n",
       "      <td>-0.001014</td>\n",
       "      <td>0.001110</td>\n",
       "    </tr>\n",
       "    <tr>\n",
       "      <th>2016-01-08</th>\n",
       "      <td>-0.011099</td>\n",
       "      <td>0.008457</td>\n",
       "      <td>-0.003766</td>\n",
       "      <td>-0.017866</td>\n",
       "      <td>-0.017866</td>\n",
       "      <td>0.006274</td>\n",
       "      <td>-0.014878</td>\n",
       "      <td>-0.014899</td>\n",
       "      <td>-0.014929</td>\n",
       "      <td>0.0</td>\n",
       "      <td>...</td>\n",
       "      <td>-0.001024</td>\n",
       "      <td>-0.000833</td>\n",
       "      <td>-0.001260</td>\n",
       "      <td>-0.001032</td>\n",
       "      <td>0.000000</td>\n",
       "      <td>0.000000</td>\n",
       "      <td>0.000868</td>\n",
       "      <td>0.000812</td>\n",
       "      <td>-0.001015</td>\n",
       "      <td>-0.001110</td>\n",
       "    </tr>\n",
       "    <tr>\n",
       "      <th>2016-01-11</th>\n",
       "      <td>-0.013483</td>\n",
       "      <td>-0.034265</td>\n",
       "      <td>-0.019048</td>\n",
       "      <td>0.000870</td>\n",
       "      <td>0.000879</td>\n",
       "      <td>-0.038846</td>\n",
       "      <td>-0.012839</td>\n",
       "      <td>-0.012888</td>\n",
       "      <td>-0.012988</td>\n",
       "      <td>0.0</td>\n",
       "      <td>...</td>\n",
       "      <td>0.001024</td>\n",
       "      <td>0.000118</td>\n",
       "      <td>0.000679</td>\n",
       "      <td>-0.000930</td>\n",
       "      <td>0.000000</td>\n",
       "      <td>0.000000</td>\n",
       "      <td>-0.001010</td>\n",
       "      <td>-0.001026</td>\n",
       "      <td>-0.001016</td>\n",
       "      <td>0.000606</td>\n",
       "    </tr>\n",
       "    <tr>\n",
       "      <th>2016-01-12</th>\n",
       "      <td>-0.001132</td>\n",
       "      <td>0.004348</td>\n",
       "      <td>0.005753</td>\n",
       "      <td>0.005698</td>\n",
       "      <td>0.005757</td>\n",
       "      <td>0.005135</td>\n",
       "      <td>0.003064</td>\n",
       "      <td>0.003002</td>\n",
       "      <td>0.002993</td>\n",
       "      <td>0.0</td>\n",
       "      <td>...</td>\n",
       "      <td>0.000000</td>\n",
       "      <td>-0.000168</td>\n",
       "      <td>-0.001261</td>\n",
       "      <td>-0.001241</td>\n",
       "      <td>0.000000</td>\n",
       "      <td>0.000000</td>\n",
       "      <td>-0.000453</td>\n",
       "      <td>-0.000485</td>\n",
       "      <td>-0.001221</td>\n",
       "      <td>-0.001111</td>\n",
       "    </tr>\n",
       "  </tbody>\n",
       "</table>\n",
       "<p>5 rows × 40 columns</p>\n",
       "</div>"
      ],
      "text/plain": [
       "            LU0272423913  LU0474536744  LU0147408487  LU1160359102  \\\n",
       "Date                                                                 \n",
       "2016-01-06     -0.014990     -0.002037     -0.015796     -0.024757   \n",
       "2016-01-07     -0.022914     -0.040227     -0.022918     -0.037041   \n",
       "2016-01-08     -0.011099      0.008457     -0.003766     -0.017866   \n",
       "2016-01-11     -0.013483     -0.034265     -0.019048      0.000870   \n",
       "2016-01-12     -0.001132      0.004348      0.005753      0.005698   \n",
       "\n",
       "            LU1160358633  IE0004866889  LU0966156712  LU1048657123  \\\n",
       "Date                                                                 \n",
       "2016-01-06     -0.024781     -0.004787     -0.012550     -0.012539   \n",
       "2016-01-07     -0.037004     -0.051189     -0.025975     -0.025978   \n",
       "2016-01-08     -0.017866      0.006274     -0.014878     -0.014899   \n",
       "2016-01-11      0.000879     -0.038846     -0.012839     -0.012888   \n",
       "2016-01-12      0.005757      0.005135      0.003064      0.003002   \n",
       "\n",
       "            LU0966156399  IE00B03HCY54  ...  IE00BLY1N519  IE00BLY27S52  \\\n",
       "Date                                    ...                               \n",
       "2016-01-06     -0.012622           0.0  ...     -0.001022     -0.000932   \n",
       "2016-01-07     -0.025975           0.0  ...     -0.001023     -0.001222   \n",
       "2016-01-08     -0.014929           0.0  ...     -0.001024     -0.000833   \n",
       "2016-01-11     -0.012988           0.0  ...      0.001024      0.000118   \n",
       "2016-01-12      0.002993           0.0  ...      0.000000     -0.000168   \n",
       "\n",
       "            LU0963986467  LU0858297186  IE00BLWF5D72  IE00BLWF5F96  \\\n",
       "Date                                                                 \n",
       "2016-01-06      0.000582      0.000619     -0.001010     -0.001013   \n",
       "2016-01-07      0.001066     -0.001134     -0.002022     -0.001014   \n",
       "2016-01-08     -0.001260     -0.001032      0.000000      0.000000   \n",
       "2016-01-11      0.000679     -0.000930      0.000000      0.000000   \n",
       "2016-01-12     -0.001261     -0.001241      0.000000      0.000000   \n",
       "\n",
       "            IE00BHCR9339  IE00BCRY5R01  LU0858297772  LU0963987275  \n",
       "Date                                                                \n",
       "2016-01-06      0.000707      0.000683      0.000507      0.000606  \n",
       "2016-01-07     -0.001566     -0.001588     -0.001014      0.001110  \n",
       "2016-01-08      0.000868      0.000812     -0.001015     -0.001110  \n",
       "2016-01-11     -0.001010     -0.001026     -0.001016      0.000606  \n",
       "2016-01-12     -0.000453     -0.000485     -0.001221     -0.001111  \n",
       "\n",
       "[5 rows x 40 columns]"
      ]
     },
     "execution_count": 3,
     "metadata": {},
     "output_type": "execute_result"
    }
   ],
   "source": [
    "retornos.head()"
   ]
  },
  {
   "cell_type": "code",
   "execution_count": 4,
   "metadata": {},
   "outputs": [],
   "source": [
    "retornos_ff = retornos.copy()"
   ]
  },
  {
   "cell_type": "code",
   "execution_count": 6,
   "metadata": {},
   "outputs": [],
   "source": [
    "retornos = pd.read_csv('data/retornosYF.csv',index_col=0)\n",
    "retornos.index.names = ['Date']\n",
    "retornos.index = pd.to_datetime(retornos.index)"
   ]
  },
  {
   "cell_type": "code",
   "execution_count": 6,
   "metadata": {},
   "outputs": [
    {
     "data": {
      "text/html": [
       "<div>\n",
       "<style scoped>\n",
       "    .dataframe tbody tr th:only-of-type {\n",
       "        vertical-align: middle;\n",
       "    }\n",
       "\n",
       "    .dataframe tbody tr th {\n",
       "        vertical-align: top;\n",
       "    }\n",
       "\n",
       "    .dataframe thead th {\n",
       "        text-align: right;\n",
       "    }\n",
       "</style>\n",
       "<table border=\"1\" class=\"dataframe\">\n",
       "  <thead>\n",
       "    <tr style=\"text-align: right;\">\n",
       "      <th></th>\n",
       "      <th>AAPL</th>\n",
       "      <th>DIS</th>\n",
       "      <th>MSFT</th>\n",
       "      <th>AMZN</th>\n",
       "      <th>GOOG</th>\n",
       "    </tr>\n",
       "    <tr>\n",
       "      <th>Date</th>\n",
       "      <th></th>\n",
       "      <th></th>\n",
       "      <th></th>\n",
       "      <th></th>\n",
       "      <th></th>\n",
       "    </tr>\n",
       "  </thead>\n",
       "  <tbody>\n",
       "    <tr>\n",
       "      <th>2016-01-05</th>\n",
       "      <td>-0.025059</td>\n",
       "      <td>-0.020198</td>\n",
       "      <td>0.004562</td>\n",
       "      <td>-0.005024</td>\n",
       "      <td>0.000998</td>\n",
       "    </tr>\n",
       "    <tr>\n",
       "      <th>2016-01-06</th>\n",
       "      <td>-0.019570</td>\n",
       "      <td>-0.005352</td>\n",
       "      <td>-0.018165</td>\n",
       "      <td>-0.001799</td>\n",
       "      <td>0.001400</td>\n",
       "    </tr>\n",
       "    <tr>\n",
       "      <th>2016-01-07</th>\n",
       "      <td>-0.042205</td>\n",
       "      <td>-0.008569</td>\n",
       "      <td>-0.034783</td>\n",
       "      <td>-0.039058</td>\n",
       "      <td>-0.023170</td>\n",
       "    </tr>\n",
       "    <tr>\n",
       "      <th>2016-01-08</th>\n",
       "      <td>0.005288</td>\n",
       "      <td>-0.002512</td>\n",
       "      <td>0.003067</td>\n",
       "      <td>-0.001464</td>\n",
       "      <td>-0.016410</td>\n",
       "    </tr>\n",
       "    <tr>\n",
       "      <th>2016-01-11</th>\n",
       "      <td>0.016192</td>\n",
       "      <td>0.006751</td>\n",
       "      <td>-0.000574</td>\n",
       "      <td>0.017610</td>\n",
       "      <td>0.002183</td>\n",
       "    </tr>\n",
       "  </tbody>\n",
       "</table>\n",
       "</div>"
      ],
      "text/plain": [
       "                AAPL       DIS      MSFT      AMZN      GOOG\n",
       "Date                                                        \n",
       "2016-01-05 -0.025059 -0.020198  0.004562 -0.005024  0.000998\n",
       "2016-01-06 -0.019570 -0.005352 -0.018165 -0.001799  0.001400\n",
       "2016-01-07 -0.042205 -0.008569 -0.034783 -0.039058 -0.023170\n",
       "2016-01-08  0.005288 -0.002512  0.003067 -0.001464 -0.016410\n",
       "2016-01-11  0.016192  0.006751 -0.000574  0.017610  0.002183"
      ]
     },
     "execution_count": 6,
     "metadata": {},
     "output_type": "execute_result"
    }
   ],
   "source": [
    "retornos.head()"
   ]
  },
  {
   "cell_type": "code",
   "execution_count": 7,
   "metadata": {},
   "outputs": [],
   "source": [
    "retornos_ff = retornos.copy()"
   ]
  },
  {
   "cell_type": "markdown",
   "metadata": {},
   "source": [
    "## <span style=\"color:white\">Inverse Volatility Model</span>"
   ]
  },
  {
   "cell_type": "code",
   "execution_count": 8,
   "metadata": {},
   "outputs": [],
   "source": [
    "\n",
    "def InverseVolatilityPortfolio(cov):\n",
    "    \"\"\"\n",
    "    Función que asigna pesos a los activos según su matriz de varianzas-covarianzas usando \n",
    "    un modelo \"Inverse Volatility\"\n",
    "    - INPUTS:\n",
    "        · cov = matriz de varianzas-covarianzas de los activos\n",
    "    - OUTPUTS:\n",
    "        · pesosIVP = (array) array de pesos\n",
    "    \"\"\"\n",
    "    \n",
    "    inverseVol = 1./np.sqrt(np.diag(cov))\n",
    "    inverseVolTot = inverseVol.sum()\n",
    "    pesosIVP = inverseVol/inverseVolTot\n",
    "\n",
    "    \n",
    "    return pesosIVP"
   ]
  },
  {
   "cell_type": "code",
   "execution_count": 9,
   "metadata": {},
   "outputs": [
    {
     "data": {
      "text/html": [
       "<div>\n",
       "<style scoped>\n",
       "    .dataframe tbody tr th:only-of-type {\n",
       "        vertical-align: middle;\n",
       "    }\n",
       "\n",
       "    .dataframe tbody tr th {\n",
       "        vertical-align: top;\n",
       "    }\n",
       "\n",
       "    .dataframe thead th {\n",
       "        text-align: right;\n",
       "    }\n",
       "</style>\n",
       "<table border=\"1\" class=\"dataframe\">\n",
       "  <thead>\n",
       "    <tr style=\"text-align: right;\">\n",
       "      <th></th>\n",
       "      <th>AAPL</th>\n",
       "      <th>DIS</th>\n",
       "      <th>MSFT</th>\n",
       "      <th>AMZN</th>\n",
       "      <th>GOOG</th>\n",
       "    </tr>\n",
       "  </thead>\n",
       "  <tbody>\n",
       "    <tr>\n",
       "      <th>AAPL</th>\n",
       "      <td>0.000326</td>\n",
       "      <td>0.000134</td>\n",
       "      <td>0.000215</td>\n",
       "      <td>0.000214</td>\n",
       "      <td>0.000202</td>\n",
       "    </tr>\n",
       "    <tr>\n",
       "      <th>DIS</th>\n",
       "      <td>0.000134</td>\n",
       "      <td>0.000319</td>\n",
       "      <td>0.000135</td>\n",
       "      <td>0.000134</td>\n",
       "      <td>0.000138</td>\n",
       "    </tr>\n",
       "    <tr>\n",
       "      <th>MSFT</th>\n",
       "      <td>0.000215</td>\n",
       "      <td>0.000135</td>\n",
       "      <td>0.000290</td>\n",
       "      <td>0.000236</td>\n",
       "      <td>0.000224</td>\n",
       "    </tr>\n",
       "    <tr>\n",
       "      <th>AMZN</th>\n",
       "      <td>0.000214</td>\n",
       "      <td>0.000134</td>\n",
       "      <td>0.000236</td>\n",
       "      <td>0.000422</td>\n",
       "      <td>0.000240</td>\n",
       "    </tr>\n",
       "    <tr>\n",
       "      <th>GOOG</th>\n",
       "      <td>0.000202</td>\n",
       "      <td>0.000138</td>\n",
       "      <td>0.000224</td>\n",
       "      <td>0.000240</td>\n",
       "      <td>0.000320</td>\n",
       "    </tr>\n",
       "  </tbody>\n",
       "</table>\n",
       "</div>"
      ],
      "text/plain": [
       "          AAPL       DIS      MSFT      AMZN      GOOG\n",
       "AAPL  0.000326  0.000134  0.000215  0.000214  0.000202\n",
       "DIS   0.000134  0.000319  0.000135  0.000134  0.000138\n",
       "MSFT  0.000215  0.000135  0.000290  0.000236  0.000224\n",
       "AMZN  0.000214  0.000134  0.000236  0.000422  0.000240\n",
       "GOOG  0.000202  0.000138  0.000224  0.000240  0.000320"
      ]
     },
     "execution_count": 9,
     "metadata": {},
     "output_type": "execute_result"
    }
   ],
   "source": [
    "cov = retornos_ff.cov()\n",
    "cov.head()"
   ]
  },
  {
   "cell_type": "code",
   "execution_count": 10,
   "metadata": {},
   "outputs": [
    {
     "data": {
      "text/plain": [
       "array([0.20169054, 0.20373335, 0.21384595, 0.17712882, 0.20360134])"
      ]
     },
     "execution_count": 10,
     "metadata": {},
     "output_type": "execute_result"
    }
   ],
   "source": [
    "pesosIVP = InverseVolatilityPortfolio(cov)\n",
    "pesosIVP"
   ]
  },
  {
   "cell_type": "code",
   "execution_count": 11,
   "metadata": {},
   "outputs": [
    {
     "data": {
      "text/plain": [
       "0.9999999999999998"
      ]
     },
     "execution_count": 11,
     "metadata": {},
     "output_type": "execute_result"
    }
   ],
   "source": [
    "pesosIVP.sum()"
   ]
  },
  {
   "cell_type": "code",
   "execution_count": 13,
   "metadata": {},
   "outputs": [
    {
     "data": {
      "image/png": "[encoded data removed]",
      "text/plain": [
       "<Figure size 2000x500 with 2 Axes>"
      ]
     },
     "metadata": {},
     "output_type": "display_data"
    }
   ],
   "source": [
    "plt.style.use('dark_background')\n",
    "fig, ax1 = plt.subplots(figsize=(20,5))\n",
    "\n",
    "ax1.bar(x=np.arange(retornos_ff.shape[1])-0.1, height=pesosIVP, width=0.2, label='Peso')\n",
    "ax1.set_xticks(np.arange(retornos_ff.shape[1]))\n",
    "ax1.set_xticklabels(retornos_ff.columns, rotation=45, ha='right')\n",
    "ax1.set_ylabel('Peso')\n",
    "ax1.legend(loc='upper left')\n",
    "\n",
    "\n",
    "ax2 = ax1.twinx()\n",
    "ax2.bar(x=np.arange(retornos_ff.shape[1])+0.1, height=retornos_ff.std(), width=0.2, label='Volatility', color='beige')\n",
    "ax2.set_ylabel('Volatility')\n",
    "ax2.legend(loc='upper right')\n",
    "\n",
    "plt.show()"
   ]
  },
  {
   "cell_type": "code",
   "execution_count": 14,
   "metadata": {},
   "outputs": [
    {
     "name": "stdout",
     "output_type": "stream",
     "text": [
      "La volatilidad diaria de la cartera es: 1.4675% y anualizada: 23.2952%\n"
     ]
    }
   ],
   "source": [
    "varCartera = np.dot(np.dot(pesosIVP, cov),pesosIVP)\n",
    "volaCartera = np.sqrt(varCartera)\n",
    "print(f'La volatilidad diaria de la cartera es: {round(volaCartera*100,4)}% y anualizada: {round(volaCartera*np.sqrt(252)*100,4)}%')"
   ]
  },
  {
   "cell_type": "code",
   "execution_count": 15,
   "metadata": {},
   "outputs": [],
   "source": [
    "\n",
    "def GlobalMinimumVariance(cov):\n",
    "    \"\"\"\n",
    "    Función que asigna pesos a los activos según su matriz de varianzas-covarianzas usando \n",
    "    el modelo de mínima varianza global\n",
    "    - INPUTS:\n",
    "        · cov = matriz de varianzas-covarianzas de los activos\n",
    "    - OUTPUTS:\n",
    "        · pesosGMVP = (array) array de pesos\n",
    "    \"\"\"\n",
    "   \n",
    "    inverseVarCovar = np.linalg.inv(cov)\n",
    "\n",
    "    num = inverseVarCovar.sum(axis=0)\n",
    "\n",
    "    den = inverseVarCovar.sum().sum()  \n",
    "\n",
    "  \n",
    "    pesosGMVP = num/den \n",
    "\n",
    "    \n",
    "    return pesosGMVP"
   ]
  },
  {
   "cell_type": "code",
   "execution_count": 17,
   "metadata": {},
   "outputs": [
    {
     "data": {
      "text/plain": [
       "array([0.19506761, 0.37347526, 0.2161851 , 0.05192209, 0.16334994])"
      ]
     },
     "execution_count": 17,
     "metadata": {},
     "output_type": "execute_result"
    }
   ],
   "source": [
    "pesosGMVP = GlobalMinimumVariance(cov)\n",
    "pesosGMVP"
   ]
  },
  {
   "cell_type": "code",
   "execution_count": 18,
   "metadata": {},
   "outputs": [
    {
     "data": {
      "text/plain": [
       "0.9999999999999997"
      ]
     },
     "execution_count": 18,
     "metadata": {},
     "output_type": "execute_result"
    }
   ],
   "source": [
    "pesosGMVP.sum()"
   ]
  },
  {
   "cell_type": "code",
   "execution_count": 19,
   "metadata": {},
   "outputs": [
    {
     "data": {
      "image/png": "[encoded data removed]",
      "text/plain": [
       "<Figure size 2000x500 with 2 Axes>"
      ]
     },
     "metadata": {},
     "output_type": "display_data"
    }
   ],
   "source": [
    "plt.style.use('dark_background')\n",
    "fig, ax1 = plt.subplots(figsize=(20,5))\n",
    "\n",
    "\n",
    "ax1.bar(x=np.arange(retornos_ff.shape[1])-0.1, height=pesosGMVP, width=0.2, label='Peso')\n",
    "ax1.set_xticks(np.arange(retornos_ff.shape[1]))\n",
    "ax1.set_xticklabels(retornos_ff.columns, rotation=45, ha='right')\n",
    "ax1.set_ylabel('Peso')\n",
    "ax1.legend(loc='upper left')\n",
    "\n",
    "\n",
    "ax2 = ax1.twinx()\n",
    "ax2.bar(x=np.arange(retornos_ff.shape[1])+0.1, height=retornos_ff.std(), width=0.2, label='Volatility', color='beige')\n",
    "ax2.set_ylabel('Volatility')\n",
    "ax2.legend(loc='upper right')\n",
    "\n",
    "plt.show()"
   ]
  },
  {
   "cell_type": "code",
   "execution_count": 20,
   "metadata": {},
   "outputs": [
    {
     "name": "stdout",
     "output_type": "stream",
     "text": [
      "La volatilidad diaria de la cartera es: 1.4286% y anualizada: 22.6776%\n"
     ]
    }
   ],
   "source": [
    "varCartera = np.dot(np.dot(pesosGMVP, cov),pesosGMVP)\n",
    "volaCartera = np.sqrt(varCartera)\n",
    "print(f'La volatilidad diaria de la cartera es: {round(volaCartera*100,4)}% y anualizada: {round(volaCartera*np.sqrt(252)*100,4)}%')"
   ]
  },
  {
   "cell_type": "code",
   "execution_count": 21,
   "metadata": {},
   "outputs": [
    {
     "data": {
      "text/html": [
       "<div>\n",
       "<style scoped>\n",
       "    .dataframe tbody tr th:only-of-type {\n",
       "        vertical-align: middle;\n",
       "    }\n",
       "\n",
       "    .dataframe tbody tr th {\n",
       "        vertical-align: top;\n",
       "    }\n",
       "\n",
       "    .dataframe thead th {\n",
       "        text-align: right;\n",
       "    }\n",
       "</style>\n",
       "<table border=\"1\" class=\"dataframe\">\n",
       "  <thead>\n",
       "    <tr style=\"text-align: right;\">\n",
       "      <th></th>\n",
       "      <th>AAPL</th>\n",
       "      <th>DIS</th>\n",
       "      <th>MSFT</th>\n",
       "      <th>AMZN</th>\n",
       "      <th>GOOG</th>\n",
       "    </tr>\n",
       "  </thead>\n",
       "  <tbody>\n",
       "    <tr>\n",
       "      <th>AAPL</th>\n",
       "      <td>1.000000</td>\n",
       "      <td>0.414067</td>\n",
       "      <td>0.700616</td>\n",
       "      <td>0.575858</td>\n",
       "      <td>0.626028</td>\n",
       "    </tr>\n",
       "    <tr>\n",
       "      <th>DIS</th>\n",
       "      <td>0.414067</td>\n",
       "      <td>1.000000</td>\n",
       "      <td>0.444970</td>\n",
       "      <td>0.365767</td>\n",
       "      <td>0.431670</td>\n",
       "    </tr>\n",
       "    <tr>\n",
       "      <th>MSFT</th>\n",
       "      <td>0.700616</td>\n",
       "      <td>0.444970</td>\n",
       "      <td>1.000000</td>\n",
       "      <td>0.674870</td>\n",
       "      <td>0.736193</td>\n",
       "    </tr>\n",
       "    <tr>\n",
       "      <th>AMZN</th>\n",
       "      <td>0.575858</td>\n",
       "      <td>0.365767</td>\n",
       "      <td>0.674870</td>\n",
       "      <td>1.000000</td>\n",
       "      <td>0.653775</td>\n",
       "    </tr>\n",
       "    <tr>\n",
       "      <th>GOOG</th>\n",
       "      <td>0.626028</td>\n",
       "      <td>0.431670</td>\n",
       "      <td>0.736193</td>\n",
       "      <td>0.653775</td>\n",
       "      <td>1.000000</td>\n",
       "    </tr>\n",
       "  </tbody>\n",
       "</table>\n",
       "</div>"
      ],
      "text/plain": [
       "          AAPL       DIS      MSFT      AMZN      GOOG\n",
       "AAPL  1.000000  0.414067  0.700616  0.575858  0.626028\n",
       "DIS   0.414067  1.000000  0.444970  0.365767  0.431670\n",
       "MSFT  0.700616  0.444970  1.000000  0.674870  0.736193\n",
       "AMZN  0.575858  0.365767  0.674870  1.000000  0.653775\n",
       "GOOG  0.626028  0.431670  0.736193  0.653775  1.000000"
      ]
     },
     "execution_count": 21,
     "metadata": {},
     "output_type": "execute_result"
    }
   ],
   "source": [
    "corr = retornos_ff.corr()\n",
    "corr.head()"
   ]
  },
  {
   "cell_type": "code",
   "execution_count": 22,
   "metadata": {},
   "outputs": [
    {
     "data": {
      "text/plain": [
       "<Axes: >"
      ]
     },
     "execution_count": 22,
     "metadata": {},
     "output_type": "execute_result"
    },
    {
     "data": {
      "image/png": "[encoded data removed]",
      "text/plain": [
       "<Figure size 640x480 with 2 Axes>"
      ]
     },
     "metadata": {},
     "output_type": "display_data"
    }
   ],
   "source": [
    "sns.heatmap(corr)"
   ]
  },
  {
   "cell_type": "code",
   "execution_count": 24,
   "metadata": {},
   "outputs": [],
   "source": [
    "# Función para generar pesos aleatorios de tamaño de nuestro universo y \n",
    "\n",
    "def generaAleatorios(minimo, tamanyo):\n",
    "    \"\"\"\n",
    "    Función que genera un array de pesos aleatorios según el tamaño\n",
    "    especificado y con un mínimo\n",
    "    - INPUTS:\n",
    "        · minimo = peso mínimo que se quiere tener\n",
    "    - OUTPUTS:\n",
    "        · pesosAleat = (array) array de pesos    \n",
    "    \"\"\"\n",
    "    aleat = np.random.rand(tamanyo)\n",
    "    aleatMod = (aleat / aleat.sum() * (1 - minimo * tamanyo))\n",
    "    pesosAleat = aleatMod + minimo\n",
    "    return pesosAleat"
   ]
  },
  {
   "cell_type": "code",
   "execution_count": null,
   "metadata": {},
   "outputs": [],
   "source": [
    "\n",
    "def inverseVolatilityRB(cov, riskBudget):\n",
    "    \"\"\"\n",
    "    Función que asigna pesos a los activos según su matriz de varianzas-covarianzas usando \n",
    "    un modelo \"Inverse Volatility\" y con un cierto presupuesto de riesgo por activo\n",
    "    - INPUTS:\n",
    "        · cov = matriz de varianzas-covarianzas de los activos\n",
    "        · riskBudget = (array) array de presupuestos de riesgo\n",
    "    - OUTPUTS:\n",
    "        · pesosIVRB = (array) array de pesos\n",
    "    \"\"\"\n",
    "    inverseVolRB = np.sqrt(riskBudget) / np.sqrt(np.diag(cov))\n",
    "    inverseVolTotRB = inverseVolRB.sum()\n",
    "    pesosIVRB = inverseVolRB/inverseVolTotRB\n",
    "\n",
    "\n",
    "    return pesosIVRB    "
   ]
  },
  {
   "cell_type": "code",
   "execution_count": 26,
   "metadata": {},
   "outputs": [
    {
     "data": {
      "text/plain": [
       "array([0.32222633, 0.27477288, 0.12569281, 0.08064889, 0.19665908])"
      ]
     },
     "execution_count": 26,
     "metadata": {},
     "output_type": "execute_result"
    }
   ],
   "source": [
    "minimo = 0.01\n",
    "riskBudget = generaAleatorios(minimo, retornos_ff.shape[1])\n",
    "riskBudget"
   ]
  },
  {
   "cell_type": "code",
   "execution_count": 27,
   "metadata": {},
   "outputs": [
    {
     "data": {
      "text/plain": [
       "array([0.26157615, 0.24399513, 0.17321613, 0.11492659, 0.20628599])"
      ]
     },
     "execution_count": 27,
     "metadata": {},
     "output_type": "execute_result"
    }
   ],
   "source": [
    "# Pesos\n",
    "pesosIVRB = inverseVolatilityRB(cov, riskBudget)\n",
    "pesosIVRB"
   ]
  },
  {
   "cell_type": "code",
   "execution_count": 28,
   "metadata": {},
   "outputs": [
    {
     "data": {
      "text/plain": [
       "1.0"
      ]
     },
     "execution_count": 28,
     "metadata": {},
     "output_type": "execute_result"
    }
   ],
   "source": [
    "pesosIVRB.sum()"
   ]
  },
  {
   "cell_type": "code",
   "execution_count": 29,
   "metadata": {},
   "outputs": [
    {
     "data": {
      "image/png": "[encoded data removed]",
      "text/plain": [
       "<Figure size 2000x500 with 1 Axes>"
      ]
     },
     "metadata": {},
     "output_type": "display_data"
    }
   ],
   "source": [
    "\n",
    "plt.style.use('dark_background')\n",
    "plt.figure(figsize=(20,5))\n",
    "plt.bar(x=np.arange(retornos_ff.shape[1])-0.1,height=pesosIVP, width=0.1, label='Pesos IVP')\n",
    "plt.bar(x=np.arange(retornos_ff.shape[1]),height=pesosIVRB,width=0.1, label='Pesos IVPRB')\n",
    "plt.bar(x=np.arange(retornos_ff.shape[1])+0.1,height=pesosGMVP,width=0.1, label='Pesos GMVP')\n",
    "plt.xticks(np.arange(retornos_ff.shape[1]), retornos_ff.columns, rotation=45, ha='right')\n",
    "plt.legend()\n",
    "plt.show()"
   ]
  },
  {
   "cell_type": "code",
   "execution_count": null,
   "metadata": {},
   "outputs": [],
   "source": []
  }
 ],
 "metadata": {
  "kernelspec": {
   "display_name": "base",
   "language": "python",
   "name": "python3"
  },
  "language_info": {
   "codemirror_mode": {
    "name": "ipython",
    "version": 3
   },
   "file_extension": ".py",
   "mimetype": "text/x-python",
   "name": "python",
   "nbconvert_exporter": "python",
   "pygments_lexer": "ipython3",
   "version": "3.12.7"
  }
 },
 "nbformat": 4,
 "nbformat_minor": 2
}
