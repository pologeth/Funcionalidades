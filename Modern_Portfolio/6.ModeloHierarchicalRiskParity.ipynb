{
 "cells": [
  {
   "cell_type": "markdown",
   "metadata": {},
   "source": [
    "# <span style=\"color:Red\">Hierarchical Risk Parity</span>"
   ]
  },
  {
   "cell_type": "code",
   "execution_count": 1,
   "metadata": {},
   "outputs": [],
   "source": [
    "import numpy as np\n",
    "import pandas as pd\n",
    "import matplotlib.pyplot as plt\n",
    "import seaborn as sns\n",
    "import scipy.cluster.hierarchy as sch"
   ]
  },
  {
   "cell_type": "code",
   "execution_count": 2,
   "metadata": {},
   "outputs": [],
   "source": [
    "plt.style.use('dark_background')"
   ]
  },
  {
   "cell_type": "code",
   "execution_count": 3,
   "metadata": {},
   "outputs": [],
   "source": [
    "retornos = pd.read_csv('data/returns_selected.csv',index_col=0)\n",
    "\n",
    "retornos.index.names = ['Date']\n",
    "retornos.index = pd.to_datetime(retornos.index)"
   ]
  },
  {
   "cell_type": "code",
   "execution_count": 4,
   "metadata": {},
   "outputs": [
    {
     "data": {
      "text/html": [
       "<div>\n",
       "<style scoped>\n",
       "    .dataframe tbody tr th:only-of-type {\n",
       "        vertical-align: middle;\n",
       "    }\n",
       "\n",
       "    .dataframe tbody tr th {\n",
       "        vertical-align: top;\n",
       "    }\n",
       "\n",
       "    .dataframe thead th {\n",
       "        text-align: right;\n",
       "    }\n",
       "</style>\n",
       "<table border=\"1\" class=\"dataframe\">\n",
       "  <thead>\n",
       "    <tr style=\"text-align: right;\">\n",
       "      <th></th>\n",
       "      <th>LU0272423913</th>\n",
       "      <th>LU0474536744</th>\n",
       "      <th>LU0147408487</th>\n",
       "      <th>LU1160359102</th>\n",
       "      <th>LU1160358633</th>\n",
       "      <th>IE0004866889</th>\n",
       "      <th>LU0966156712</th>\n",
       "      <th>LU1048657123</th>\n",
       "      <th>LU0966156399</th>\n",
       "      <th>IE00B03HCY54</th>\n",
       "      <th>...</th>\n",
       "      <th>IE00BLY1N519</th>\n",
       "      <th>IE00BLY27S52</th>\n",
       "      <th>LU0963986467</th>\n",
       "      <th>LU0858297186</th>\n",
       "      <th>IE00BLWF5D72</th>\n",
       "      <th>IE00BLWF5F96</th>\n",
       "      <th>IE00BHCR9339</th>\n",
       "      <th>IE00BCRY5R01</th>\n",
       "      <th>LU0858297772</th>\n",
       "      <th>LU0963987275</th>\n",
       "    </tr>\n",
       "    <tr>\n",
       "      <th>Date</th>\n",
       "      <th></th>\n",
       "      <th></th>\n",
       "      <th></th>\n",
       "      <th></th>\n",
       "      <th></th>\n",
       "      <th></th>\n",
       "      <th></th>\n",
       "      <th></th>\n",
       "      <th></th>\n",
       "      <th></th>\n",
       "      <th></th>\n",
       "      <th></th>\n",
       "      <th></th>\n",
       "      <th></th>\n",
       "      <th></th>\n",
       "      <th></th>\n",
       "      <th></th>\n",
       "      <th></th>\n",
       "      <th></th>\n",
       "      <th></th>\n",
       "      <th></th>\n",
       "    </tr>\n",
       "  </thead>\n",
       "  <tbody>\n",
       "    <tr>\n",
       "      <th>2016-01-06</th>\n",
       "      <td>-0.014990</td>\n",
       "      <td>-0.002037</td>\n",
       "      <td>-0.015796</td>\n",
       "      <td>-0.024757</td>\n",
       "      <td>-0.024781</td>\n",
       "      <td>-0.004787</td>\n",
       "      <td>-0.012550</td>\n",
       "      <td>-0.012539</td>\n",
       "      <td>-0.012622</td>\n",
       "      <td>0.0</td>\n",
       "      <td>...</td>\n",
       "      <td>-0.001022</td>\n",
       "      <td>-0.000932</td>\n",
       "      <td>0.000582</td>\n",
       "      <td>0.000619</td>\n",
       "      <td>-0.001010</td>\n",
       "      <td>-0.001013</td>\n",
       "      <td>0.000707</td>\n",
       "      <td>0.000683</td>\n",
       "      <td>0.000507</td>\n",
       "      <td>0.000606</td>\n",
       "    </tr>\n",
       "    <tr>\n",
       "      <th>2016-01-07</th>\n",
       "      <td>-0.022914</td>\n",
       "      <td>-0.040227</td>\n",
       "      <td>-0.022918</td>\n",
       "      <td>-0.037041</td>\n",
       "      <td>-0.037004</td>\n",
       "      <td>-0.051189</td>\n",
       "      <td>-0.025975</td>\n",
       "      <td>-0.025978</td>\n",
       "      <td>-0.025975</td>\n",
       "      <td>0.0</td>\n",
       "      <td>...</td>\n",
       "      <td>-0.001023</td>\n",
       "      <td>-0.001222</td>\n",
       "      <td>0.001066</td>\n",
       "      <td>-0.001134</td>\n",
       "      <td>-0.002022</td>\n",
       "      <td>-0.001014</td>\n",
       "      <td>-0.001566</td>\n",
       "      <td>-0.001588</td>\n",
       "      <td>-0.001014</td>\n",
       "      <td>0.001110</td>\n",
       "    </tr>\n",
       "    <tr>\n",
       "      <th>2016-01-08</th>\n",
       "      <td>-0.011099</td>\n",
       "      <td>0.008457</td>\n",
       "      <td>-0.003766</td>\n",
       "      <td>-0.017866</td>\n",
       "      <td>-0.017866</td>\n",
       "      <td>0.006274</td>\n",
       "      <td>-0.014878</td>\n",
       "      <td>-0.014899</td>\n",
       "      <td>-0.014929</td>\n",
       "      <td>0.0</td>\n",
       "      <td>...</td>\n",
       "      <td>-0.001024</td>\n",
       "      <td>-0.000833</td>\n",
       "      <td>-0.001260</td>\n",
       "      <td>-0.001032</td>\n",
       "      <td>0.000000</td>\n",
       "      <td>0.000000</td>\n",
       "      <td>0.000868</td>\n",
       "      <td>0.000812</td>\n",
       "      <td>-0.001015</td>\n",
       "      <td>-0.001110</td>\n",
       "    </tr>\n",
       "    <tr>\n",
       "      <th>2016-01-11</th>\n",
       "      <td>-0.013483</td>\n",
       "      <td>-0.034265</td>\n",
       "      <td>-0.019048</td>\n",
       "      <td>0.000870</td>\n",
       "      <td>0.000879</td>\n",
       "      <td>-0.038846</td>\n",
       "      <td>-0.012839</td>\n",
       "      <td>-0.012888</td>\n",
       "      <td>-0.012988</td>\n",
       "      <td>0.0</td>\n",
       "      <td>...</td>\n",
       "      <td>0.001024</td>\n",
       "      <td>0.000118</td>\n",
       "      <td>0.000679</td>\n",
       "      <td>-0.000930</td>\n",
       "      <td>0.000000</td>\n",
       "      <td>0.000000</td>\n",
       "      <td>-0.001010</td>\n",
       "      <td>-0.001026</td>\n",
       "      <td>-0.001016</td>\n",
       "      <td>0.000606</td>\n",
       "    </tr>\n",
       "    <tr>\n",
       "      <th>2016-01-12</th>\n",
       "      <td>-0.001132</td>\n",
       "      <td>0.004348</td>\n",
       "      <td>0.005753</td>\n",
       "      <td>0.005698</td>\n",
       "      <td>0.005757</td>\n",
       "      <td>0.005135</td>\n",
       "      <td>0.003064</td>\n",
       "      <td>0.003002</td>\n",
       "      <td>0.002993</td>\n",
       "      <td>0.0</td>\n",
       "      <td>...</td>\n",
       "      <td>0.000000</td>\n",
       "      <td>-0.000168</td>\n",
       "      <td>-0.001261</td>\n",
       "      <td>-0.001241</td>\n",
       "      <td>0.000000</td>\n",
       "      <td>0.000000</td>\n",
       "      <td>-0.000453</td>\n",
       "      <td>-0.000485</td>\n",
       "      <td>-0.001221</td>\n",
       "      <td>-0.001111</td>\n",
       "    </tr>\n",
       "  </tbody>\n",
       "</table>\n",
       "<p>5 rows × 40 columns</p>\n",
       "</div>"
      ],
      "text/plain": [
       "            LU0272423913  LU0474536744  LU0147408487  LU1160359102  \\\n",
       "Date                                                                 \n",
       "2016-01-06     -0.014990     -0.002037     -0.015796     -0.024757   \n",
       "2016-01-07     -0.022914     -0.040227     -0.022918     -0.037041   \n",
       "2016-01-08     -0.011099      0.008457     -0.003766     -0.017866   \n",
       "2016-01-11     -0.013483     -0.034265     -0.019048      0.000870   \n",
       "2016-01-12     -0.001132      0.004348      0.005753      0.005698   \n",
       "\n",
       "            LU1160358633  IE0004866889  LU0966156712  LU1048657123  \\\n",
       "Date                                                                 \n",
       "2016-01-06     -0.024781     -0.004787     -0.012550     -0.012539   \n",
       "2016-01-07     -0.037004     -0.051189     -0.025975     -0.025978   \n",
       "2016-01-08     -0.017866      0.006274     -0.014878     -0.014899   \n",
       "2016-01-11      0.000879     -0.038846     -0.012839     -0.012888   \n",
       "2016-01-12      0.005757      0.005135      0.003064      0.003002   \n",
       "\n",
       "            LU0966156399  IE00B03HCY54  ...  IE00BLY1N519  IE00BLY27S52  \\\n",
       "Date                                    ...                               \n",
       "2016-01-06     -0.012622           0.0  ...     -0.001022     -0.000932   \n",
       "2016-01-07     -0.025975           0.0  ...     -0.001023     -0.001222   \n",
       "2016-01-08     -0.014929           0.0  ...     -0.001024     -0.000833   \n",
       "2016-01-11     -0.012988           0.0  ...      0.001024      0.000118   \n",
       "2016-01-12      0.002993           0.0  ...      0.000000     -0.000168   \n",
       "\n",
       "            LU0963986467  LU0858297186  IE00BLWF5D72  IE00BLWF5F96  \\\n",
       "Date                                                                 \n",
       "2016-01-06      0.000582      0.000619     -0.001010     -0.001013   \n",
       "2016-01-07      0.001066     -0.001134     -0.002022     -0.001014   \n",
       "2016-01-08     -0.001260     -0.001032      0.000000      0.000000   \n",
       "2016-01-11      0.000679     -0.000930      0.000000      0.000000   \n",
       "2016-01-12     -0.001261     -0.001241      0.000000      0.000000   \n",
       "\n",
       "            IE00BHCR9339  IE00BCRY5R01  LU0858297772  LU0963987275  \n",
       "Date                                                                \n",
       "2016-01-06      0.000707      0.000683      0.000507      0.000606  \n",
       "2016-01-07     -0.001566     -0.001588     -0.001014      0.001110  \n",
       "2016-01-08      0.000868      0.000812     -0.001015     -0.001110  \n",
       "2016-01-11     -0.001010     -0.001026     -0.001016      0.000606  \n",
       "2016-01-12     -0.000453     -0.000485     -0.001221     -0.001111  \n",
       "\n",
       "[5 rows x 40 columns]"
      ]
     },
     "execution_count": 4,
     "metadata": {},
     "output_type": "execute_result"
    }
   ],
   "source": [
    "retornos.head()"
   ]
  },
  {
   "cell_type": "code",
   "execution_count": 5,
   "metadata": {},
   "outputs": [],
   "source": [
    "retornos_ff = retornos.copy()"
   ]
  },
  {
   "cell_type": "code",
   "execution_count": 6,
   "metadata": {},
   "outputs": [],
   "source": [
    "retornos = pd.read_csv('data/retornosYF.csv',index_col=0)\n",
    "\n",
    "retornos.index.names = ['Date']\n",
    "\n",
    "retornos.index = pd.to_datetime(retornos.index)"
   ]
  },
  {
   "cell_type": "code",
   "execution_count": 7,
   "metadata": {},
   "outputs": [
    {
     "data": {
      "text/html": [
       "<div>\n",
       "<style scoped>\n",
       "    .dataframe tbody tr th:only-of-type {\n",
       "        vertical-align: middle;\n",
       "    }\n",
       "\n",
       "    .dataframe tbody tr th {\n",
       "        vertical-align: top;\n",
       "    }\n",
       "\n",
       "    .dataframe thead th {\n",
       "        text-align: right;\n",
       "    }\n",
       "</style>\n",
       "<table border=\"1\" class=\"dataframe\">\n",
       "  <thead>\n",
       "    <tr style=\"text-align: right;\">\n",
       "      <th></th>\n",
       "      <th>AAPL</th>\n",
       "      <th>DIS</th>\n",
       "      <th>MSFT</th>\n",
       "      <th>AMZN</th>\n",
       "      <th>GOOG</th>\n",
       "    </tr>\n",
       "    <tr>\n",
       "      <th>Date</th>\n",
       "      <th></th>\n",
       "      <th></th>\n",
       "      <th></th>\n",
       "      <th></th>\n",
       "      <th></th>\n",
       "    </tr>\n",
       "  </thead>\n",
       "  <tbody>\n",
       "    <tr>\n",
       "      <th>2016-01-05</th>\n",
       "      <td>-0.025059</td>\n",
       "      <td>-0.020198</td>\n",
       "      <td>0.004562</td>\n",
       "      <td>-0.005024</td>\n",
       "      <td>0.000998</td>\n",
       "    </tr>\n",
       "    <tr>\n",
       "      <th>2016-01-06</th>\n",
       "      <td>-0.019570</td>\n",
       "      <td>-0.005352</td>\n",
       "      <td>-0.018165</td>\n",
       "      <td>-0.001799</td>\n",
       "      <td>0.001400</td>\n",
       "    </tr>\n",
       "    <tr>\n",
       "      <th>2016-01-07</th>\n",
       "      <td>-0.042205</td>\n",
       "      <td>-0.008569</td>\n",
       "      <td>-0.034783</td>\n",
       "      <td>-0.039058</td>\n",
       "      <td>-0.023170</td>\n",
       "    </tr>\n",
       "    <tr>\n",
       "      <th>2016-01-08</th>\n",
       "      <td>0.005288</td>\n",
       "      <td>-0.002512</td>\n",
       "      <td>0.003067</td>\n",
       "      <td>-0.001464</td>\n",
       "      <td>-0.016410</td>\n",
       "    </tr>\n",
       "    <tr>\n",
       "      <th>2016-01-11</th>\n",
       "      <td>0.016192</td>\n",
       "      <td>0.006751</td>\n",
       "      <td>-0.000574</td>\n",
       "      <td>0.017610</td>\n",
       "      <td>0.002183</td>\n",
       "    </tr>\n",
       "  </tbody>\n",
       "</table>\n",
       "</div>"
      ],
      "text/plain": [
       "                AAPL       DIS      MSFT      AMZN      GOOG\n",
       "Date                                                        \n",
       "2016-01-05 -0.025059 -0.020198  0.004562 -0.005024  0.000998\n",
       "2016-01-06 -0.019570 -0.005352 -0.018165 -0.001799  0.001400\n",
       "2016-01-07 -0.042205 -0.008569 -0.034783 -0.039058 -0.023170\n",
       "2016-01-08  0.005288 -0.002512  0.003067 -0.001464 -0.016410\n",
       "2016-01-11  0.016192  0.006751 -0.000574  0.017610  0.002183"
      ]
     },
     "execution_count": 7,
     "metadata": {},
     "output_type": "execute_result"
    }
   ],
   "source": [
    "retornos.head()"
   ]
  },
  {
   "cell_type": "code",
   "execution_count": 8,
   "metadata": {},
   "outputs": [],
   "source": [
    "retornos_ff = retornos.copy()"
   ]
  },
  {
   "cell_type": "markdown",
   "metadata": {},
   "source": [
    "## <span style=\"color:white\">Hierarchical Risk Parity Model</span>"
   ]
  },
  {
   "cell_type": "code",
   "execution_count": 9,
   "metadata": {},
   "outputs": [],
   "source": [
    "# Función para calcular el Inverse Variance Portfolio\n",
    "def InverseVariancePortfolio(cov):\n",
    "    \n",
    "    inverseVaR = 1./(np.diag(cov))\n",
    "\n",
    "   \n",
    "    inverseVaRTot = inverseVaR.sum()\n",
    "\n",
    "   \n",
    "    pesosIVP = inverseVaR/inverseVaRTot\n",
    "\n",
    "   \n",
    "    return pesosIVP\n"
   ]
  },
  {
   "cell_type": "code",
   "execution_count": 10,
   "metadata": {},
   "outputs": [],
   "source": [
    "def VarianzaCluster(cov, pos):\n",
    "    \n",
    "   \n",
    "    covCluster = cov.loc[pos, pos]\n",
    "\n",
    "    \n",
    "    pesos = InverseVariancePortfolio(covCluster).reshape(-1,1)\n",
    "\n",
    "    varCluster = np.dot(np.dot(pesos.T,covCluster),pesos)[0,0]\n",
    "\n",
    "    \n",
    "    return varCluster"
   ]
  },
  {
   "cell_type": "code",
   "execution_count": 11,
   "metadata": {},
   "outputs": [],
   "source": [
    "def CuasiDiagonalizacion(link):\n",
    "    \n",
    "\n",
    "    link = link.astype(int)\n",
    "\n",
    "    serieOrd = pd.Series([link[-1,0],link[-1,1]])\n",
    "\n",
    "    numActivos = link[-1,3]\n",
    "\n",
    "    while serieOrd.max() >= numActivos:\n",
    "\n",
    "        serieOrd.index = range(0,serieOrd.shape[0]*2,2)\n",
    "\n",
    "        clusters = serieOrd[serieOrd >= numActivos]\n",
    "\n",
    "        i = clusters.index\n",
    "\n",
    "        j = clusters.values - numActivos\n",
    "\n",
    "        serieOrd[i] = link[j,0]\n",
    "\n",
    "        clusters = pd.Series(link[j,1],index=i+1)\n",
    "        serieOrd = pd.concat([serieOrd,clusters])\n",
    "\n",
    "        serieOrd = serieOrd.sort_index()\n",
    "        serieOrd.index = range(serieOrd.shape[0])\n",
    "        \n",
    "    \n",
    "    return serieOrd.tolist()"
   ]
  },
  {
   "cell_type": "code",
   "execution_count": 12,
   "metadata": {},
   "outputs": [],
   "source": [
    "def BiseccionRec(cov,listaOrd):\n",
    "    \n",
    "\n",
    "    pesosHRP = pd.Series(1, index=listaOrd)\n",
    "\n",
    "    L = [listaOrd]\n",
    "\n",
    "    while len(L) > 0: \n",
    "        L = [i[j:k] for i in L for j,k in ((0,len(i)//2),(len(i)//2,len(i))) if len(i)>1]\n",
    "\n",
    "        for i in range(0,len(L),2): \n",
    "            L0 = L[i] \n",
    "            L1 = L[i+1] \n",
    "\n",
    "            Var0 = VarianzaCluster(cov,L0) \n",
    "            Var1 = VarianzaCluster(cov,L1)\n",
    "\n",
    "            alpha = 1 - Var0/(Var0 + Var1)\n",
    "\n",
    "            pesosHRP[L0] = alpha * pesosHRP[L0] \n",
    "            pesosHRP[L1] = (1-alpha) * pesosHRP[L1]\n",
    "    return pesosHRP"
   ]
  },
  {
   "cell_type": "code",
   "execution_count": 13,
   "metadata": {},
   "outputs": [],
   "source": [
    "cov = retornos_ff.cov()\n",
    "corr = retornos_ff.corr() "
   ]
  },
  {
   "cell_type": "code",
   "execution_count": 14,
   "metadata": {},
   "outputs": [
    {
     "data": {
      "image/png": "[encoded data removed]",
      "text/plain": [
       "<Figure size 640x480 with 2 Axes>"
      ]
     },
     "metadata": {},
     "output_type": "display_data"
    }
   ],
   "source": [
    "ax = sns.heatmap(corr)\n",
    "ax.invert_yaxis()"
   ]
  },
  {
   "cell_type": "code",
   "execution_count": 15,
   "metadata": {},
   "outputs": [
    {
     "data": {
      "text/html": [
       "<div>\n",
       "<style scoped>\n",
       "    .dataframe tbody tr th:only-of-type {\n",
       "        vertical-align: middle;\n",
       "    }\n",
       "\n",
       "    .dataframe tbody tr th {\n",
       "        vertical-align: top;\n",
       "    }\n",
       "\n",
       "    .dataframe thead th {\n",
       "        text-align: right;\n",
       "    }\n",
       "</style>\n",
       "<table border=\"1\" class=\"dataframe\">\n",
       "  <thead>\n",
       "    <tr style=\"text-align: right;\">\n",
       "      <th></th>\n",
       "      <th>AAPL</th>\n",
       "      <th>DIS</th>\n",
       "      <th>MSFT</th>\n",
       "      <th>AMZN</th>\n",
       "      <th>GOOG</th>\n",
       "    </tr>\n",
       "  </thead>\n",
       "  <tbody>\n",
       "    <tr>\n",
       "      <th>AAPL</th>\n",
       "      <td>0.000000</td>\n",
       "      <td>0.541264</td>\n",
       "      <td>0.386901</td>\n",
       "      <td>0.460512</td>\n",
       "      <td>0.432419</td>\n",
       "    </tr>\n",
       "    <tr>\n",
       "      <th>DIS</th>\n",
       "      <td>0.541264</td>\n",
       "      <td>0.000000</td>\n",
       "      <td>0.526797</td>\n",
       "      <td>0.563131</td>\n",
       "      <td>0.533071</td>\n",
       "    </tr>\n",
       "    <tr>\n",
       "      <th>MSFT</th>\n",
       "      <td>0.386901</td>\n",
       "      <td>0.526797</td>\n",
       "      <td>0.000000</td>\n",
       "      <td>0.403193</td>\n",
       "      <td>0.363185</td>\n",
       "    </tr>\n",
       "    <tr>\n",
       "      <th>AMZN</th>\n",
       "      <td>0.460512</td>\n",
       "      <td>0.563131</td>\n",
       "      <td>0.403193</td>\n",
       "      <td>0.000000</td>\n",
       "      <td>0.416068</td>\n",
       "    </tr>\n",
       "    <tr>\n",
       "      <th>GOOG</th>\n",
       "      <td>0.432419</td>\n",
       "      <td>0.533071</td>\n",
       "      <td>0.363185</td>\n",
       "      <td>0.416068</td>\n",
       "      <td>0.000000</td>\n",
       "    </tr>\n",
       "  </tbody>\n",
       "</table>\n",
       "</div>"
      ],
      "text/plain": [
       "          AAPL       DIS      MSFT      AMZN      GOOG\n",
       "AAPL  0.000000  0.541264  0.386901  0.460512  0.432419\n",
       "DIS   0.541264  0.000000  0.526797  0.563131  0.533071\n",
       "MSFT  0.386901  0.526797  0.000000  0.403193  0.363185\n",
       "AMZN  0.460512  0.563131  0.403193  0.000000  0.416068\n",
       "GOOG  0.432419  0.533071  0.363185  0.416068  0.000000"
      ]
     },
     "execution_count": 15,
     "metadata": {},
     "output_type": "execute_result"
    }
   ],
   "source": [
    "dist = ((1-corr)/2.)**.5 \n",
    "dist"
   ]
  },
  {
   "cell_type": "code",
   "execution_count": 16,
   "metadata": {},
   "outputs": [
    {
     "name": "stderr",
     "output_type": "stream",
     "text": [
      "/var/folders/lr/vt7z07r96xs_kf3mfyld482m0000gn/T/ipykernel_20075/1326467571.py:1: ClusterWarning: The symmetric non-negative hollow observation matrix looks suspiciously like an uncondensed distance matrix\n",
      "  link = sch.linkage(dist, 'single')\n"
     ]
    },
    {
     "data": {
      "text/plain": [
       "array([[2.        , 4.        , 0.5158335 , 2.        ],\n",
       "       [0.        , 5.        , 0.55468214, 3.        ],\n",
       "       [3.        , 6.        , 0.57850246, 4.        ],\n",
       "       [1.        , 7.        , 0.79130589, 5.        ]])"
      ]
     },
     "execution_count": 16,
     "metadata": {},
     "output_type": "execute_result"
    }
   ],
   "source": [
    "link = sch.linkage(dist, 'single')\n",
    "link"
   ]
  },
  {
   "cell_type": "code",
   "execution_count": 17,
   "metadata": {},
   "outputs": [
    {
     "data": {
      "image/png": "[encoded data removed]",
      "text/plain": [
       "<Figure size 640x480 with 1 Axes>"
      ]
     },
     "metadata": {},
     "output_type": "display_data"
    }
   ],
   "source": [
    "sch.dendrogram(link)\n",
    "plt.show()"
   ]
  },
  {
   "cell_type": "code",
   "execution_count": 18,
   "metadata": {},
   "outputs": [
    {
     "data": {
      "text/plain": [
       "['DIS', 'AMZN', 'AAPL', 'MSFT', 'GOOG']"
      ]
     },
     "execution_count": 18,
     "metadata": {},
     "output_type": "execute_result"
    }
   ],
   "source": [
    "serieOrd = CuasiDiagonalizacion(link)\n",
    "\n",
    "\n",
    "ind = corr.index[serieOrd].tolist()\n",
    "ind"
   ]
  },
  {
   "cell_type": "code",
   "execution_count": 19,
   "metadata": {},
   "outputs": [
    {
     "data": {
      "image/png": "[encoded data removed]",
      "text/plain": [
       "<Figure size 640x480 with 2 Axes>"
      ]
     },
     "metadata": {},
     "output_type": "display_data"
    }
   ],
   "source": [
    "ax = sns.heatmap(corr.loc[ind,ind])\n",
    "ax.invert_yaxis()"
   ]
  },
  {
   "cell_type": "code",
   "execution_count": 20,
   "metadata": {},
   "outputs": [
    {
     "name": "stderr",
     "output_type": "stream",
     "text": [
      "/var/folders/lr/vt7z07r96xs_kf3mfyld482m0000gn/T/ipykernel_20075/3076853767.py:20: FutureWarning: Setting an item of incompatible dtype is deprecated and will raise an error in a future version of pandas. Value '[0.49856289 0.49856289]' has dtype incompatible with int64, please explicitly cast to a compatible dtype first.\n",
      "  pesosHRP[L0] = alpha * pesosHRP[L0]\n"
     ]
    },
    {
     "data": {
      "text/plain": [
       "DIS     0.283939\n",
       "AMZN    0.214624\n",
       "AAPL    0.224351\n",
       "MSFT    0.145339\n",
       "GOOG    0.131747\n",
       "dtype: float64"
      ]
     },
     "execution_count": 20,
     "metadata": {},
     "output_type": "execute_result"
    }
   ],
   "source": [
    "pesosHRP = BiseccionRec(cov, ind)\n",
    "pesosHRP"
   ]
  },
  {
   "cell_type": "code",
   "execution_count": 21,
   "metadata": {},
   "outputs": [
    {
     "data": {
      "text/plain": [
       "1.0"
      ]
     },
     "execution_count": 21,
     "metadata": {},
     "output_type": "execute_result"
    }
   ],
   "source": [
    "\n",
    "pesosHRP.sum()"
   ]
  },
  {
   "cell_type": "code",
   "execution_count": 22,
   "metadata": {},
   "outputs": [
    {
     "data": {
      "text/html": [
       "<div>\n",
       "<style scoped>\n",
       "    .dataframe tbody tr th:only-of-type {\n",
       "        vertical-align: middle;\n",
       "    }\n",
       "\n",
       "    .dataframe tbody tr th {\n",
       "        vertical-align: top;\n",
       "    }\n",
       "\n",
       "    .dataframe thead th {\n",
       "        text-align: right;\n",
       "    }\n",
       "</style>\n",
       "<table border=\"1\" class=\"dataframe\">\n",
       "  <thead>\n",
       "    <tr style=\"text-align: right;\">\n",
       "      <th></th>\n",
       "      <th>pesos</th>\n",
       "    </tr>\n",
       "  </thead>\n",
       "  <tbody>\n",
       "    <tr>\n",
       "      <th>AAPL</th>\n",
       "      <td>0.224351</td>\n",
       "    </tr>\n",
       "    <tr>\n",
       "      <th>DIS</th>\n",
       "      <td>0.283939</td>\n",
       "    </tr>\n",
       "    <tr>\n",
       "      <th>MSFT</th>\n",
       "      <td>0.145339</td>\n",
       "    </tr>\n",
       "    <tr>\n",
       "      <th>AMZN</th>\n",
       "      <td>0.214624</td>\n",
       "    </tr>\n",
       "    <tr>\n",
       "      <th>GOOG</th>\n",
       "      <td>0.131747</td>\n",
       "    </tr>\n",
       "  </tbody>\n",
       "</table>\n",
       "</div>"
      ],
      "text/plain": [
       "         pesos\n",
       "AAPL  0.224351\n",
       "DIS   0.283939\n",
       "MSFT  0.145339\n",
       "AMZN  0.214624\n",
       "GOOG  0.131747"
      ]
     },
     "execution_count": 22,
     "metadata": {},
     "output_type": "execute_result"
    }
   ],
   "source": [
    "\n",
    "pd.DataFrame(pesosHRP.T, index=retornos_ff.columns, columns=['pesos'])"
   ]
  },
  {
   "cell_type": "code",
   "execution_count": 24,
   "metadata": {},
   "outputs": [
    {
     "data": {
      "image/png": "[encoded data removed]",
      "text/plain": [
       "<Figure size 2000x500 with 2 Axes>"
      ]
     },
     "metadata": {},
     "output_type": "display_data"
    }
   ],
   "source": [
    "fig, ax1 = plt.subplots(figsize=(20,5))\n",
    "\n",
    "\n",
    "ax1.bar(x=np.arange(retornos_ff.shape[1])-0.1, height=np.array(pesosHRP)[0], width=0.2, label='Peso')\n",
    "ax1.set_xticks(np.arange(retornos_ff.shape[1]))\n",
    "ax1.set_xticklabels(retornos_ff.columns, rotation=45, ha='right')\n",
    "ax1.set_ylabel('Peso')\n",
    "ax1.legend(loc='upper left')\n",
    "ax2 = ax1.twinx()\n",
    "ax2.bar(x=np.arange(retornos_ff.shape[1])+0.1, height=retornos_ff.std(), width=0.2, label='Volatility', color='beige')\n",
    "ax2.set_ylabel('Volatility')\n",
    "ax2.legend(loc='upper right')\n",
    "\n",
    "plt.show()"
   ]
  },
  {
   "cell_type": "code",
   "execution_count": 25,
   "metadata": {},
   "outputs": [
    {
     "data": {
      "text/plain": [
       "0.014613690252001918"
      ]
     },
     "execution_count": 25,
     "metadata": {},
     "output_type": "execute_result"
    }
   ],
   "source": [
    "sigma = np.sqrt(np.dot(np.dot(pesosHRP,cov),pesosHRP.T))\n",
    "sigma"
   ]
  },
  {
   "cell_type": "code",
   "execution_count": 26,
   "metadata": {},
   "outputs": [
    {
     "data": {
      "text/plain": [
       "DIS     0.004413\n",
       "AMZN    0.002563\n",
       "AAPL    0.003363\n",
       "MSFT    0.002342\n",
       "GOOG    0.001932\n",
       "dtype: float64"
      ]
     },
     "execution_count": 26,
     "metadata": {},
     "output_type": "execute_result"
    }
   ],
   "source": [
    "RC = np.multiply(np.dot(cov,pesosHRP.T),pesosHRP.T)/sigma\n",
    "RC"
   ]
  },
  {
   "cell_type": "code",
   "execution_count": 27,
   "metadata": {},
   "outputs": [
    {
     "data": {
      "text/plain": [
       "0.014613690252001918"
      ]
     },
     "execution_count": 27,
     "metadata": {},
     "output_type": "execute_result"
    }
   ],
   "source": [
    "RC.sum()"
   ]
  }
 ],
 "metadata": {
  "kernelspec": {
   "display_name": "base",
   "language": "python",
   "name": "python3"
  },
  "language_info": {
   "codemirror_mode": {
    "name": "ipython",
    "version": 3
   },
   "file_extension": ".py",
   "mimetype": "text/x-python",
   "name": "python",
   "nbconvert_exporter": "python",
   "pygments_lexer": "ipython3",
   "version": "3.12.7"
  }
 },
 "nbformat": 4,
 "nbformat_minor": 2
}
