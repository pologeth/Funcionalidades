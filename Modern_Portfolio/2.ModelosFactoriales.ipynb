{
 "cells": [
  {
   "cell_type": "markdown",
   "metadata": {},
   "source": [
    "# <span style=\"color:Red\">Modelos Factoriales</span>"
   ]
  },
  {
   "cell_type": "code",
   "execution_count": 1,
   "metadata": {},
   "outputs": [],
   "source": [
    "import numpy as np\n",
    "import pandas as pd\n",
    "import matplotlib.pyplot as plt\n",
    "import seaborn as sns\n",
    "import plotly.graph_objects as go\n",
    "import statsmodels.api as sm\n",
    "from scipy.optimize import minimize\n",
    "import function.F_Datos as FDatos\n",
    "import function.F_FamaFactors as gff"
   ]
  },
  {
   "cell_type": "code",
   "execution_count": 4,
   "metadata": {},
   "outputs": [],
   "source": [
    "\n",
    "retornos = pd.read_csv('data/returns_selected.csv',index_col=0)\n",
    "retornos.index.names = ['Date']\n",
    "retornos.index = pd.to_datetime(retornos.index)"
   ]
  },
  {
   "cell_type": "code",
   "execution_count": null,
   "metadata": {},
   "outputs": [
    {
     "data": {
      "text/html": [
       "<div>\n",
       "<style scoped>\n",
       "    .dataframe tbody tr th:only-of-type {\n",
       "        vertical-align: middle;\n",
       "    }\n",
       "\n",
       "    .dataframe tbody tr th {\n",
       "        vertical-align: top;\n",
       "    }\n",
       "\n",
       "    .dataframe thead th {\n",
       "        text-align: right;\n",
       "    }\n",
       "</style>\n",
       "<table border=\"1\" class=\"dataframe\">\n",
       "  <thead>\n",
       "    <tr style=\"text-align: right;\">\n",
       "      <th></th>\n",
       "      <th>LU0272423913</th>\n",
       "      <th>LU0474536744</th>\n",
       "      <th>LU0147408487</th>\n",
       "      <th>LU1160359102</th>\n",
       "      <th>LU1160358633</th>\n",
       "      <th>IE0004866889</th>\n",
       "      <th>LU0966156712</th>\n",
       "      <th>LU1048657123</th>\n",
       "      <th>LU0966156399</th>\n",
       "      <th>IE00B03HCY54</th>\n",
       "      <th>...</th>\n",
       "      <th>IE00BLY1N519</th>\n",
       "      <th>IE00BLY27S52</th>\n",
       "      <th>LU0963986467</th>\n",
       "      <th>LU0858297186</th>\n",
       "      <th>IE00BLWF5D72</th>\n",
       "      <th>IE00BLWF5F96</th>\n",
       "      <th>IE00BHCR9339</th>\n",
       "      <th>IE00BCRY5R01</th>\n",
       "      <th>LU0858297772</th>\n",
       "      <th>LU0963987275</th>\n",
       "    </tr>\n",
       "    <tr>\n",
       "      <th>Date</th>\n",
       "      <th></th>\n",
       "      <th></th>\n",
       "      <th></th>\n",
       "      <th></th>\n",
       "      <th></th>\n",
       "      <th></th>\n",
       "      <th></th>\n",
       "      <th></th>\n",
       "      <th></th>\n",
       "      <th></th>\n",
       "      <th></th>\n",
       "      <th></th>\n",
       "      <th></th>\n",
       "      <th></th>\n",
       "      <th></th>\n",
       "      <th></th>\n",
       "      <th></th>\n",
       "      <th></th>\n",
       "      <th></th>\n",
       "      <th></th>\n",
       "      <th></th>\n",
       "    </tr>\n",
       "  </thead>\n",
       "  <tbody>\n",
       "    <tr>\n",
       "      <th>2016-01-06</th>\n",
       "      <td>-0.014990</td>\n",
       "      <td>-0.002037</td>\n",
       "      <td>-0.015796</td>\n",
       "      <td>-0.024757</td>\n",
       "      <td>-0.024781</td>\n",
       "      <td>-0.004787</td>\n",
       "      <td>-0.012550</td>\n",
       "      <td>-0.012539</td>\n",
       "      <td>-0.012622</td>\n",
       "      <td>0.0</td>\n",
       "      <td>...</td>\n",
       "      <td>-0.001022</td>\n",
       "      <td>-0.000932</td>\n",
       "      <td>0.000582</td>\n",
       "      <td>0.000619</td>\n",
       "      <td>-0.001010</td>\n",
       "      <td>-0.001013</td>\n",
       "      <td>0.000707</td>\n",
       "      <td>0.000683</td>\n",
       "      <td>0.000507</td>\n",
       "      <td>0.000606</td>\n",
       "    </tr>\n",
       "    <tr>\n",
       "      <th>2016-01-07</th>\n",
       "      <td>-0.022914</td>\n",
       "      <td>-0.040227</td>\n",
       "      <td>-0.022918</td>\n",
       "      <td>-0.037041</td>\n",
       "      <td>-0.037004</td>\n",
       "      <td>-0.051189</td>\n",
       "      <td>-0.025975</td>\n",
       "      <td>-0.025978</td>\n",
       "      <td>-0.025975</td>\n",
       "      <td>0.0</td>\n",
       "      <td>...</td>\n",
       "      <td>-0.001023</td>\n",
       "      <td>-0.001222</td>\n",
       "      <td>0.001066</td>\n",
       "      <td>-0.001134</td>\n",
       "      <td>-0.002022</td>\n",
       "      <td>-0.001014</td>\n",
       "      <td>-0.001566</td>\n",
       "      <td>-0.001588</td>\n",
       "      <td>-0.001014</td>\n",
       "      <td>0.001110</td>\n",
       "    </tr>\n",
       "    <tr>\n",
       "      <th>2016-01-08</th>\n",
       "      <td>-0.011099</td>\n",
       "      <td>0.008457</td>\n",
       "      <td>-0.003766</td>\n",
       "      <td>-0.017866</td>\n",
       "      <td>-0.017866</td>\n",
       "      <td>0.006274</td>\n",
       "      <td>-0.014878</td>\n",
       "      <td>-0.014899</td>\n",
       "      <td>-0.014929</td>\n",
       "      <td>0.0</td>\n",
       "      <td>...</td>\n",
       "      <td>-0.001024</td>\n",
       "      <td>-0.000833</td>\n",
       "      <td>-0.001260</td>\n",
       "      <td>-0.001032</td>\n",
       "      <td>0.000000</td>\n",
       "      <td>0.000000</td>\n",
       "      <td>0.000868</td>\n",
       "      <td>0.000812</td>\n",
       "      <td>-0.001015</td>\n",
       "      <td>-0.001110</td>\n",
       "    </tr>\n",
       "    <tr>\n",
       "      <th>2016-01-11</th>\n",
       "      <td>-0.013483</td>\n",
       "      <td>-0.034265</td>\n",
       "      <td>-0.019048</td>\n",
       "      <td>0.000870</td>\n",
       "      <td>0.000879</td>\n",
       "      <td>-0.038846</td>\n",
       "      <td>-0.012839</td>\n",
       "      <td>-0.012888</td>\n",
       "      <td>-0.012988</td>\n",
       "      <td>0.0</td>\n",
       "      <td>...</td>\n",
       "      <td>0.001024</td>\n",
       "      <td>0.000118</td>\n",
       "      <td>0.000679</td>\n",
       "      <td>-0.000930</td>\n",
       "      <td>0.000000</td>\n",
       "      <td>0.000000</td>\n",
       "      <td>-0.001010</td>\n",
       "      <td>-0.001026</td>\n",
       "      <td>-0.001016</td>\n",
       "      <td>0.000606</td>\n",
       "    </tr>\n",
       "    <tr>\n",
       "      <th>2016-01-12</th>\n",
       "      <td>-0.001132</td>\n",
       "      <td>0.004348</td>\n",
       "      <td>0.005753</td>\n",
       "      <td>0.005698</td>\n",
       "      <td>0.005757</td>\n",
       "      <td>0.005135</td>\n",
       "      <td>0.003064</td>\n",
       "      <td>0.003002</td>\n",
       "      <td>0.002993</td>\n",
       "      <td>0.0</td>\n",
       "      <td>...</td>\n",
       "      <td>0.000000</td>\n",
       "      <td>-0.000168</td>\n",
       "      <td>-0.001261</td>\n",
       "      <td>-0.001241</td>\n",
       "      <td>0.000000</td>\n",
       "      <td>0.000000</td>\n",
       "      <td>-0.000453</td>\n",
       "      <td>-0.000485</td>\n",
       "      <td>-0.001221</td>\n",
       "      <td>-0.001111</td>\n",
       "    </tr>\n",
       "  </tbody>\n",
       "</table>\n",
       "<p>5 rows × 40 columns</p>\n",
       "</div>"
      ],
      "text/plain": [
       "            LU0272423913  LU0474536744  LU0147408487  LU1160359102  \\\n",
       "Date                                                                 \n",
       "2016-01-06     -0.014990     -0.002037     -0.015796     -0.024757   \n",
       "2016-01-07     -0.022914     -0.040227     -0.022918     -0.037041   \n",
       "2016-01-08     -0.011099      0.008457     -0.003766     -0.017866   \n",
       "2016-01-11     -0.013483     -0.034265     -0.019048      0.000870   \n",
       "2016-01-12     -0.001132      0.004348      0.005753      0.005698   \n",
       "\n",
       "            LU1160358633  IE0004866889  LU0966156712  LU1048657123  \\\n",
       "Date                                                                 \n",
       "2016-01-06     -0.024781     -0.004787     -0.012550     -0.012539   \n",
       "2016-01-07     -0.037004     -0.051189     -0.025975     -0.025978   \n",
       "2016-01-08     -0.017866      0.006274     -0.014878     -0.014899   \n",
       "2016-01-11      0.000879     -0.038846     -0.012839     -0.012888   \n",
       "2016-01-12      0.005757      0.005135      0.003064      0.003002   \n",
       "\n",
       "            LU0966156399  IE00B03HCY54  ...  IE00BLY1N519  IE00BLY27S52  \\\n",
       "Date                                    ...                               \n",
       "2016-01-06     -0.012622           0.0  ...     -0.001022     -0.000932   \n",
       "2016-01-07     -0.025975           0.0  ...     -0.001023     -0.001222   \n",
       "2016-01-08     -0.014929           0.0  ...     -0.001024     -0.000833   \n",
       "2016-01-11     -0.012988           0.0  ...      0.001024      0.000118   \n",
       "2016-01-12      0.002993           0.0  ...      0.000000     -0.000168   \n",
       "\n",
       "            LU0963986467  LU0858297186  IE00BLWF5D72  IE00BLWF5F96  \\\n",
       "Date                                                                 \n",
       "2016-01-06      0.000582      0.000619     -0.001010     -0.001013   \n",
       "2016-01-07      0.001066     -0.001134     -0.002022     -0.001014   \n",
       "2016-01-08     -0.001260     -0.001032      0.000000      0.000000   \n",
       "2016-01-11      0.000679     -0.000930      0.000000      0.000000   \n",
       "2016-01-12     -0.001261     -0.001241      0.000000      0.000000   \n",
       "\n",
       "            IE00BHCR9339  IE00BCRY5R01  LU0858297772  LU0963987275  \n",
       "Date                                                                \n",
       "2016-01-06      0.000707      0.000683      0.000507      0.000606  \n",
       "2016-01-07     -0.001566     -0.001588     -0.001014      0.001110  \n",
       "2016-01-08      0.000868      0.000812     -0.001015     -0.001110  \n",
       "2016-01-11     -0.001010     -0.001026     -0.001016      0.000606  \n",
       "2016-01-12     -0.000453     -0.000485     -0.001221     -0.001111  \n",
       "\n",
       "[5 rows x 40 columns]"
      ]
     },
     "execution_count": 5,
     "metadata": {},
     "output_type": "execute_result"
    }
   ],
   "source": [
    "retornos.head()"
   ]
  },
  {
   "cell_type": "code",
   "execution_count": 6,
   "metadata": {},
   "outputs": [],
   "source": [
    "retornos_ff = retornos.copy()"
   ]
  },
  {
   "cell_type": "markdown",
   "metadata": {},
   "source": [
    "## <span style=\"color:white\">French and Fama</span>\n",
    "\n"
   ]
  },
  {
   "cell_type": "code",
   "execution_count": 7,
   "metadata": {},
   "outputs": [],
   "source": [
    "#Obtencion de datos de Fama-French con frecuencia mensual\n",
    "ff3_monthly = gff.famaFrench3Factor(frequency='m')\n",
    "ff3_monthly.rename(columns={\"date_ff_factors\": 'Date'}, inplace=True)\n",
    "ff3_monthly.set_index('Date', inplace=True)"
   ]
  },
  {
   "cell_type": "code",
   "execution_count": 8,
   "metadata": {},
   "outputs": [
    {
     "data": {
      "text/html": [
       "<div>\n",
       "<style scoped>\n",
       "    .dataframe tbody tr th:only-of-type {\n",
       "        vertical-align: middle;\n",
       "    }\n",
       "\n",
       "    .dataframe tbody tr th {\n",
       "        vertical-align: top;\n",
       "    }\n",
       "\n",
       "    .dataframe thead th {\n",
       "        text-align: right;\n",
       "    }\n",
       "</style>\n",
       "<table border=\"1\" class=\"dataframe\">\n",
       "  <thead>\n",
       "    <tr style=\"text-align: right;\">\n",
       "      <th></th>\n",
       "      <th>Mkt-RF</th>\n",
       "      <th>SMB</th>\n",
       "      <th>HML</th>\n",
       "      <th>RF</th>\n",
       "    </tr>\n",
       "    <tr>\n",
       "      <th>Date</th>\n",
       "      <th></th>\n",
       "      <th></th>\n",
       "      <th></th>\n",
       "      <th></th>\n",
       "    </tr>\n",
       "  </thead>\n",
       "  <tbody>\n",
       "    <tr>\n",
       "      <th>1926-07-31</th>\n",
       "      <td>0.0289</td>\n",
       "      <td>-0.0255</td>\n",
       "      <td>-0.0239</td>\n",
       "      <td>0.0022</td>\n",
       "    </tr>\n",
       "    <tr>\n",
       "      <th>1926-08-31</th>\n",
       "      <td>0.0264</td>\n",
       "      <td>-0.0114</td>\n",
       "      <td>0.0381</td>\n",
       "      <td>0.0025</td>\n",
       "    </tr>\n",
       "    <tr>\n",
       "      <th>1926-09-30</th>\n",
       "      <td>0.0038</td>\n",
       "      <td>-0.0136</td>\n",
       "      <td>0.0005</td>\n",
       "      <td>0.0023</td>\n",
       "    </tr>\n",
       "    <tr>\n",
       "      <th>1926-10-31</th>\n",
       "      <td>-0.0327</td>\n",
       "      <td>-0.0014</td>\n",
       "      <td>0.0082</td>\n",
       "      <td>0.0032</td>\n",
       "    </tr>\n",
       "    <tr>\n",
       "      <th>1926-11-30</th>\n",
       "      <td>0.0254</td>\n",
       "      <td>-0.0011</td>\n",
       "      <td>-0.0061</td>\n",
       "      <td>0.0031</td>\n",
       "    </tr>\n",
       "  </tbody>\n",
       "</table>\n",
       "</div>"
      ],
      "text/plain": [
       "            Mkt-RF     SMB     HML      RF\n",
       "Date                                      \n",
       "1926-07-31  0.0289 -0.0255 -0.0239  0.0022\n",
       "1926-08-31  0.0264 -0.0114  0.0381  0.0025\n",
       "1926-09-30  0.0038 -0.0136  0.0005  0.0023\n",
       "1926-10-31 -0.0327 -0.0014  0.0082  0.0032\n",
       "1926-11-30  0.0254 -0.0011 -0.0061  0.0031"
      ]
     },
     "execution_count": 8,
     "metadata": {},
     "output_type": "execute_result"
    }
   ],
   "source": [
    "ff3_monthly.head()"
   ]
  },
  {
   "cell_type": "code",
   "execution_count": 9,
   "metadata": {},
   "outputs": [],
   "source": [
    "#Resampleo\n",
    "retornos_ff = retornos_ff.resample('ME').sum()\n",
    "ff_data     = ff3_monthly.merge(retornos_ff,on='Date')"
   ]
  },
  {
   "cell_type": "code",
   "execution_count": 10,
   "metadata": {},
   "outputs": [
    {
     "data": {
      "text/html": [
       "<div>\n",
       "<style scoped>\n",
       "    .dataframe tbody tr th:only-of-type {\n",
       "        vertical-align: middle;\n",
       "    }\n",
       "\n",
       "    .dataframe tbody tr th {\n",
       "        vertical-align: top;\n",
       "    }\n",
       "\n",
       "    .dataframe thead th {\n",
       "        text-align: right;\n",
       "    }\n",
       "</style>\n",
       "<table border=\"1\" class=\"dataframe\">\n",
       "  <thead>\n",
       "    <tr style=\"text-align: right;\">\n",
       "      <th></th>\n",
       "      <th>Mkt-RF</th>\n",
       "      <th>SMB</th>\n",
       "      <th>HML</th>\n",
       "      <th>RF</th>\n",
       "      <th>LU0272423913</th>\n",
       "      <th>LU0474536744</th>\n",
       "      <th>LU0147408487</th>\n",
       "      <th>LU1160359102</th>\n",
       "      <th>LU1160358633</th>\n",
       "      <th>IE0004866889</th>\n",
       "      <th>...</th>\n",
       "      <th>IE00BLY1N519</th>\n",
       "      <th>IE00BLY27S52</th>\n",
       "      <th>LU0963986467</th>\n",
       "      <th>LU0858297186</th>\n",
       "      <th>IE00BLWF5D72</th>\n",
       "      <th>IE00BLWF5F96</th>\n",
       "      <th>IE00BHCR9339</th>\n",
       "      <th>IE00BCRY5R01</th>\n",
       "      <th>LU0858297772</th>\n",
       "      <th>LU0963987275</th>\n",
       "    </tr>\n",
       "    <tr>\n",
       "      <th>Date</th>\n",
       "      <th></th>\n",
       "      <th></th>\n",
       "      <th></th>\n",
       "      <th></th>\n",
       "      <th></th>\n",
       "      <th></th>\n",
       "      <th></th>\n",
       "      <th></th>\n",
       "      <th></th>\n",
       "      <th></th>\n",
       "      <th></th>\n",
       "      <th></th>\n",
       "      <th></th>\n",
       "      <th></th>\n",
       "      <th></th>\n",
       "      <th></th>\n",
       "      <th></th>\n",
       "      <th></th>\n",
       "      <th></th>\n",
       "      <th></th>\n",
       "      <th></th>\n",
       "    </tr>\n",
       "  </thead>\n",
       "  <tbody>\n",
       "    <tr>\n",
       "      <th>2016-01-31</th>\n",
       "      <td>-0.0574</td>\n",
       "      <td>-0.0340</td>\n",
       "      <td>0.0208</td>\n",
       "      <td>0.0001</td>\n",
       "      <td>-0.034598</td>\n",
       "      <td>-0.093074</td>\n",
       "      <td>-0.073783</td>\n",
       "      <td>-0.098300</td>\n",
       "      <td>-0.098034</td>\n",
       "      <td>-0.115114</td>\n",
       "      <td>...</td>\n",
       "      <td>-2.044990e-03</td>\n",
       "      <td>-0.002662</td>\n",
       "      <td>-0.010042</td>\n",
       "      <td>-0.006104</td>\n",
       "      <td>-0.001010</td>\n",
       "      <td>-1.001803e-16</td>\n",
       "      <td>-0.008401</td>\n",
       "      <td>-0.008935</td>\n",
       "      <td>-0.005799</td>\n",
       "      <td>-0.008933</td>\n",
       "    </tr>\n",
       "    <tr>\n",
       "      <th>2016-02-29</th>\n",
       "      <td>-0.0006</td>\n",
       "      <td>0.0073</td>\n",
       "      <td>-0.0061</td>\n",
       "      <td>0.0002</td>\n",
       "      <td>0.037781</td>\n",
       "      <td>-0.023353</td>\n",
       "      <td>-0.010437</td>\n",
       "      <td>-0.012362</td>\n",
       "      <td>-0.011971</td>\n",
       "      <td>-0.017168</td>\n",
       "      <td>...</td>\n",
       "      <td>-4.000706e-16</td>\n",
       "      <td>0.000158</td>\n",
       "      <td>-0.004321</td>\n",
       "      <td>-0.008755</td>\n",
       "      <td>0.002018</td>\n",
       "      <td>2.022245e-03</td>\n",
       "      <td>-0.006546</td>\n",
       "      <td>-0.007125</td>\n",
       "      <td>-0.008299</td>\n",
       "      <td>-0.003473</td>\n",
       "    </tr>\n",
       "    <tr>\n",
       "      <th>2016-03-31</th>\n",
       "      <td>0.0695</td>\n",
       "      <td>0.0075</td>\n",
       "      <td>0.0122</td>\n",
       "      <td>0.0002</td>\n",
       "      <td>0.095888</td>\n",
       "      <td>0.117783</td>\n",
       "      <td>0.069037</td>\n",
       "      <td>0.039416</td>\n",
       "      <td>0.039669</td>\n",
       "      <td>0.051974</td>\n",
       "      <td>...</td>\n",
       "      <td>1.523646e-02</td>\n",
       "      <td>0.014879</td>\n",
       "      <td>0.026417</td>\n",
       "      <td>0.006157</td>\n",
       "      <td>0.016992</td>\n",
       "      <td>1.702595e-02</td>\n",
       "      <td>0.024755</td>\n",
       "      <td>0.024125</td>\n",
       "      <td>0.006972</td>\n",
       "      <td>0.028049</td>\n",
       "    </tr>\n",
       "    <tr>\n",
       "      <th>2016-04-30</th>\n",
       "      <td>0.0092</td>\n",
       "      <td>0.0077</td>\n",
       "      <td>0.0322</td>\n",
       "      <td>0.0001</td>\n",
       "      <td>0.063395</td>\n",
       "      <td>0.004731</td>\n",
       "      <td>-0.034873</td>\n",
       "      <td>0.042598</td>\n",
       "      <td>0.042936</td>\n",
       "      <td>0.000567</td>\n",
       "      <td>...</td>\n",
       "      <td>2.014099e-03</td>\n",
       "      <td>0.001202</td>\n",
       "      <td>0.013708</td>\n",
       "      <td>0.002494</td>\n",
       "      <td>0.003956</td>\n",
       "      <td>3.964326e-03</td>\n",
       "      <td>0.012797</td>\n",
       "      <td>0.012176</td>\n",
       "      <td>0.003264</td>\n",
       "      <td>0.015108</td>\n",
       "    </tr>\n",
       "    <tr>\n",
       "      <th>2016-05-31</th>\n",
       "      <td>0.0178</td>\n",
       "      <td>-0.0018</td>\n",
       "      <td>-0.0162</td>\n",
       "      <td>0.0001</td>\n",
       "      <td>-0.003620</td>\n",
       "      <td>-0.017001</td>\n",
       "      <td>0.042190</td>\n",
       "      <td>0.012212</td>\n",
       "      <td>0.012618</td>\n",
       "      <td>0.005159</td>\n",
       "      <td>...</td>\n",
       "      <td>1.299369e-02</td>\n",
       "      <td>0.012678</td>\n",
       "      <td>0.000473</td>\n",
       "      <td>0.003108</td>\n",
       "      <td>0.014699</td>\n",
       "      <td>1.472781e-02</td>\n",
       "      <td>0.003562</td>\n",
       "      <td>0.002927</td>\n",
       "      <td>0.003761</td>\n",
       "      <td>0.001860</td>\n",
       "    </tr>\n",
       "  </tbody>\n",
       "</table>\n",
       "<p>5 rows × 44 columns</p>\n",
       "</div>"
      ],
      "text/plain": [
       "            Mkt-RF     SMB     HML      RF  LU0272423913  LU0474536744  \\\n",
       "Date                                                                     \n",
       "2016-01-31 -0.0574 -0.0340  0.0208  0.0001     -0.034598     -0.093074   \n",
       "2016-02-29 -0.0006  0.0073 -0.0061  0.0002      0.037781     -0.023353   \n",
       "2016-03-31  0.0695  0.0075  0.0122  0.0002      0.095888      0.117783   \n",
       "2016-04-30  0.0092  0.0077  0.0322  0.0001      0.063395      0.004731   \n",
       "2016-05-31  0.0178 -0.0018 -0.0162  0.0001     -0.003620     -0.017001   \n",
       "\n",
       "            LU0147408487  LU1160359102  LU1160358633  IE0004866889  ...  \\\n",
       "Date                                                                ...   \n",
       "2016-01-31     -0.073783     -0.098300     -0.098034     -0.115114  ...   \n",
       "2016-02-29     -0.010437     -0.012362     -0.011971     -0.017168  ...   \n",
       "2016-03-31      0.069037      0.039416      0.039669      0.051974  ...   \n",
       "2016-04-30     -0.034873      0.042598      0.042936      0.000567  ...   \n",
       "2016-05-31      0.042190      0.012212      0.012618      0.005159  ...   \n",
       "\n",
       "            IE00BLY1N519  IE00BLY27S52  LU0963986467  LU0858297186  \\\n",
       "Date                                                                 \n",
       "2016-01-31 -2.044990e-03     -0.002662     -0.010042     -0.006104   \n",
       "2016-02-29 -4.000706e-16      0.000158     -0.004321     -0.008755   \n",
       "2016-03-31  1.523646e-02      0.014879      0.026417      0.006157   \n",
       "2016-04-30  2.014099e-03      0.001202      0.013708      0.002494   \n",
       "2016-05-31  1.299369e-02      0.012678      0.000473      0.003108   \n",
       "\n",
       "            IE00BLWF5D72  IE00BLWF5F96  IE00BHCR9339  IE00BCRY5R01  \\\n",
       "Date                                                                 \n",
       "2016-01-31     -0.001010 -1.001803e-16     -0.008401     -0.008935   \n",
       "2016-02-29      0.002018  2.022245e-03     -0.006546     -0.007125   \n",
       "2016-03-31      0.016992  1.702595e-02      0.024755      0.024125   \n",
       "2016-04-30      0.003956  3.964326e-03      0.012797      0.012176   \n",
       "2016-05-31      0.014699  1.472781e-02      0.003562      0.002927   \n",
       "\n",
       "            LU0858297772  LU0963987275  \n",
       "Date                                    \n",
       "2016-01-31     -0.005799     -0.008933  \n",
       "2016-02-29     -0.008299     -0.003473  \n",
       "2016-03-31      0.006972      0.028049  \n",
       "2016-04-30      0.003264      0.015108  \n",
       "2016-05-31      0.003761      0.001860  \n",
       "\n",
       "[5 rows x 44 columns]"
      ]
     },
     "execution_count": 10,
     "metadata": {},
     "output_type": "execute_result"
    }
   ],
   "source": [
    "ff_data.head()"
   ]
  },
  {
   "cell_type": "markdown",
   "metadata": {},
   "source": [
    "### <span style=\"color:white\">Obtencion de los Facotores de Fama-French</span>"
   ]
  },
  {
   "cell_type": "code",
   "execution_count": 11,
   "metadata": {},
   "outputs": [],
   "source": [
    "activo = 'LU0272423913'"
   ]
  },
  {
   "cell_type": "code",
   "execution_count": 12,
   "metadata": {},
   "outputs": [
    {
     "name": "stdout",
     "output_type": "stream",
     "text": [
      "                            OLS Regression Results                            \n",
      "==============================================================================\n",
      "Dep. Variable:                      y   R-squared:                       0.854\n",
      "Model:                            OLS   Adj. R-squared:                  0.847\n",
      "Method:                 Least Squares   F-statistic:                     122.8\n",
      "Date:                Sat, 05 Jul 2025   Prob (F-statistic):           2.84e-26\n",
      "Time:                        11:22:41   Log-Likelihood:                 159.04\n",
      "No. Observations:                  67   AIC:                            -310.1\n",
      "Df Residuals:                      63   BIC:                            -301.3\n",
      "Df Model:                           3                                         \n",
      "Covariance Type:            nonrobust                                         \n",
      "==============================================================================\n",
      "                 coef    std err          t      P>|t|      [0.025      0.975]\n",
      "------------------------------------------------------------------------------\n",
      "const         -0.0080      0.003     -2.630      0.011      -0.014      -0.002\n",
      "Mkt-RF         1.0664      0.069     15.367      0.000       0.928       1.205\n",
      "SMB            0.1555      0.115      1.352      0.181      -0.074       0.385\n",
      "HML            0.4275      0.081      5.311      0.000       0.267       0.588\n",
      "==============================================================================\n",
      "Omnibus:                        2.809   Durbin-Watson:                   2.268\n",
      "Prob(Omnibus):                  0.245   Jarque-Bera (JB):                2.074\n",
      "Skew:                           0.406   Prob(JB):                        0.355\n",
      "Kurtosis:                       3.289   Cond. No.                         41.9\n",
      "==============================================================================\n",
      "\n",
      "Notes:\n",
      "[1] Standard Errors assume that the covariance matrix of the errors is correctly specified.\n"
     ]
    }
   ],
   "source": [
    "# Factores con un modelo de regresion lineal\n",
    "X = ff_data[['Mkt-RF', 'SMB', 'HML']]\n",
    "y = ff_data[activo] - ff_data['RF']\n",
    "X = sm.add_constant(X)\n",
    "ff_model = sm.OLS(y, X).fit()\n",
    "print(ff_model.summary())\n",
    "intercept, b1, b2, b3 = ff_model.params"
   ]
  },
  {
   "cell_type": "code",
   "execution_count": 13,
   "metadata": {},
   "outputs": [
    {
     "data": {
      "text/plain": [
       "const    -0.007963\n",
       "Mkt-RF    1.066390\n",
       "SMB       0.155483\n",
       "HML       0.427546\n",
       "dtype: float64"
      ]
     },
     "execution_count": 13,
     "metadata": {},
     "output_type": "execute_result"
    }
   ],
   "source": [
    "ff_model.params"
   ]
  },
  {
   "cell_type": "code",
   "execution_count": 14,
   "metadata": {},
   "outputs": [
    {
     "name": "stdout",
     "output_type": "stream",
     "text": [
      "Expected monthly return: 0.009794835203876162\n",
      "Expected yearly return: 0.11753802244651396\n"
     ]
    }
   ],
   "source": [
    "rf             = ff_data['RF'].mean()\n",
    "market_premium = ff3_monthly['Mkt-RF'].mean()\n",
    "size_premium   = ff3_monthly['SMB'].mean()\n",
    "value_premium  = ff3_monthly['HML'].mean()\n",
    "\n",
    "expected_monthly_return = rf + b1 * market_premium + b2 * size_premium + b3 * value_premium \n",
    "expected_yearly_return = expected_monthly_return * 12\n",
    "print(\"Expected monthly return:\", expected_monthly_return)\n",
    "print(\"Expected yearly return: \" + str(expected_yearly_return))"
   ]
  },
  {
   "cell_type": "markdown",
   "metadata": {},
   "source": [
    "### <span style=\"color:white\">Evaluacion de las estrategias</span>"
   ]
  },
  {
   "cell_type": "code",
   "execution_count": 15,
   "metadata": {},
   "outputs": [
    {
     "data": {
      "text/html": [
       "<div>\n",
       "<style scoped>\n",
       "    .dataframe tbody tr th:only-of-type {\n",
       "        vertical-align: middle;\n",
       "    }\n",
       "\n",
       "    .dataframe tbody tr th {\n",
       "        vertical-align: top;\n",
       "    }\n",
       "\n",
       "    .dataframe thead th {\n",
       "        text-align: right;\n",
       "    }\n",
       "</style>\n",
       "<table border=\"1\" class=\"dataframe\">\n",
       "  <thead>\n",
       "    <tr style=\"text-align: right;\">\n",
       "      <th></th>\n",
       "      <th>intercept</th>\n",
       "      <th>b1</th>\n",
       "      <th>b2</th>\n",
       "      <th>b3</th>\n",
       "    </tr>\n",
       "  </thead>\n",
       "  <tbody>\n",
       "    <tr>\n",
       "      <th>LU0272423913</th>\n",
       "      <td>-0.007963</td>\n",
       "      <td>1.066390</td>\n",
       "      <td>0.155483</td>\n",
       "      <td>0.427546</td>\n",
       "    </tr>\n",
       "    <tr>\n",
       "      <th>LU0474536744</th>\n",
       "      <td>-0.001023</td>\n",
       "      <td>0.783100</td>\n",
       "      <td>0.240714</td>\n",
       "      <td>-0.167153</td>\n",
       "    </tr>\n",
       "    <tr>\n",
       "      <th>LU0147408487</th>\n",
       "      <td>0.003651</td>\n",
       "      <td>1.072965</td>\n",
       "      <td>0.214652</td>\n",
       "      <td>-0.629265</td>\n",
       "    </tr>\n",
       "    <tr>\n",
       "      <th>LU1160359102</th>\n",
       "      <td>-0.009553</td>\n",
       "      <td>0.975150</td>\n",
       "      <td>0.279212</td>\n",
       "      <td>0.545974</td>\n",
       "    </tr>\n",
       "    <tr>\n",
       "      <th>LU1160358633</th>\n",
       "      <td>-0.009244</td>\n",
       "      <td>0.974934</td>\n",
       "      <td>0.279762</td>\n",
       "      <td>0.545412</td>\n",
       "    </tr>\n",
       "  </tbody>\n",
       "</table>\n",
       "</div>"
      ],
      "text/plain": [
       "              intercept        b1        b2        b3\n",
       "LU0272423913  -0.007963  1.066390  0.155483  0.427546\n",
       "LU0474536744  -0.001023  0.783100  0.240714 -0.167153\n",
       "LU0147408487   0.003651  1.072965  0.214652 -0.629265\n",
       "LU1160359102  -0.009553  0.975150  0.279212  0.545974\n",
       "LU1160358633  -0.009244  0.974934  0.279762  0.545412"
      ]
     },
     "execution_count": 15,
     "metadata": {},
     "output_type": "execute_result"
    }
   ],
   "source": [
    "params = pd.DataFrame(columns=['intercept', 'b1', 'b2', 'b3'])\n",
    "\n",
    "for col in ff_data.columns[4:]:\n",
    "    X = ff_data[['Mkt-RF', 'SMB', 'HML']]\n",
    "    y = ff_data[col] - ff_data['RF']\n",
    "    X = sm.add_constant(X)\n",
    "    ff_model = sm.OLS(y, X).fit()\n",
    "    intercept, b1, b2, b3 = ff_model.params\n",
    "    params.loc[col] =  intercept, b1, b2, b3\n",
    "\n",
    "params.head()"
   ]
  },
  {
   "cell_type": "code",
   "execution_count": 16,
   "metadata": {},
   "outputs": [
    {
     "data": {
      "application/vnd.plotly.v1+json": {
       "config": {
        "plotlyServerURL": "https://plot.ly"
       },
       "data": [
        {
         "hoverinfo": "text",
         "marker": {
          "color": [
           1.0663902319304241,
           0.7831002723965191,
           1.0729652503024105,
           0.9751502298975147,
           0.974934360774096,
           0.6244939168105196,
           0.897166870108273,
           0.9005946893861009,
           0.8977425083030233,
           0.9911476055580248,
           0.9471683108990427,
           0.739803286774026,
           0.7357118558789238,
           0.7431495239401192,
           0.743356800067012,
           0.8010323377575095,
           1.023766420747646,
           0.9787159292980994,
           0.8033682907944456,
           0.8933835786150285,
           0.15331030998533055,
           0.03098323800547252,
           0.12231023480066704,
           0.12219883801065351,
           0.12447499615542619,
           0.1244356530851189,
           0.13497610424837828,
           0.1421725862786983,
           0.19459650343267326,
           0.07286870395150703,
           0.04861088654229555,
           0.04805729404963936,
           0.19470087035167535,
           0.10891973924802557,
           0.04672246108105799,
           0.0438272094729854,
           0.1517335516865552,
           0.15157288795673463,
           0.10759481683436323,
           0.1898374731668126
          ],
          "colorscale": [
           [
            0,
            "#440154"
           ],
           [
            0.1111111111111111,
            "#482878"
           ],
           [
            0.2222222222222222,
            "#3e4989"
           ],
           [
            0.3333333333333333,
            "#31688e"
           ],
           [
            0.4444444444444444,
            "#26828e"
           ],
           [
            0.5555555555555556,
            "#1f9e89"
           ],
           [
            0.6666666666666666,
            "#35b779"
           ],
           [
            0.7777777777777778,
            "#6ece58"
           ],
           [
            0.8888888888888888,
            "#b5de2b"
           ],
           [
            1,
            "#fde725"
           ]
          ],
          "opacity": 0.8,
          "size": 5
         },
         "mode": "markers",
         "text": [
          "LU0272423913",
          "LU0474536744",
          "LU0147408487",
          "LU1160359102",
          "LU1160358633",
          "IE0004866889",
          "LU0966156712",
          "LU1048657123",
          "LU0966156399",
          "IE00B03HCY54",
          "IE00B19Z3920",
          "IE00B991XL80",
          "IE00B95WDX70",
          "LU0625737597",
          "LU0625736946",
          "ES0110182039",
          "IE00B03HCW31",
          "IE0000829451",
          "ES0119203018",
          "LU0823422141",
          "LU1394336702",
          "LU0832976624",
          "LU0802639707",
          "LU0802640978",
          "LU0039343222",
          "LU1240799699",
          "LU0746604445",
          "ES0142167032",
          "LU0963987432",
          "LU0428586845",
          "IE00BLY1N519",
          "IE00BLY27S52",
          "LU0963986467",
          "LU0858297186",
          "IE00BLWF5D72",
          "IE00BLWF5F96",
          "IE00BHCR9339",
          "IE00BCRY5R01",
          "LU0858297772",
          "LU0963987275"
         ],
         "type": "scatter3d",
         "x": [
          1.0663902319304241,
          0.7831002723965191,
          1.0729652503024105,
          0.9751502298975147,
          0.974934360774096,
          0.6244939168105196,
          0.897166870108273,
          0.9005946893861009,
          0.8977425083030233,
          0.9911476055580248,
          0.9471683108990427,
          0.739803286774026,
          0.7357118558789238,
          0.7431495239401192,
          0.743356800067012,
          0.8010323377575095,
          1.023766420747646,
          0.9787159292980994,
          0.8033682907944456,
          0.8933835786150285,
          0.15331030998533055,
          0.03098323800547252,
          0.12231023480066704,
          0.12219883801065351,
          0.12447499615542619,
          0.1244356530851189,
          0.13497610424837828,
          0.1421725862786983,
          0.19459650343267326,
          0.07286870395150703,
          0.04861088654229555,
          0.04805729404963936,
          0.19470087035167535,
          0.10891973924802557,
          0.04672246108105799,
          0.0438272094729854,
          0.1517335516865552,
          0.15157288795673463,
          0.10759481683436323,
          0.1898374731668126
         ],
         "y": [
          0.1554825670389179,
          0.24071382377595213,
          0.21465189065200865,
          0.2792121867346943,
          0.279761964686449,
          0.49234818878440617,
          0.32126679450111595,
          0.3111024947561557,
          0.31559302354296914,
          0.4746118226401169,
          0.2523705868918202,
          -0.06544219648317992,
          0.0049316750450776456,
          0.2946001759200866,
          0.29698394670855993,
          -0.14201532083695886,
          0.5274145023342769,
          0.15561229953281316,
          -0.15614678371690976,
          0.09913608246528678,
          -0.034957445734458414,
          0.03267143749205414,
          0.012463909195982815,
          0.012634022672335618,
          -0.0006821908902168806,
          -0.0006568915034382297,
          -0.023359705744703498,
          -0.010344803490338807,
          0.003053145180206338,
          -0.03191495829076456,
          -0.05931907619839019,
          -0.05687732226697459,
          0.0026011869301585627,
          -0.022030149539032064,
          -0.06501078464402249,
          -0.06472593024223484,
          -0.015047776107779048,
          -0.015044851693504516,
          -0.02193957035262739,
          -0.0017549356605495723
         ],
         "z": [
          0.4275462995031603,
          -0.16715252080646864,
          -0.6292647408241537,
          0.5459737554018474,
          0.5454122741325595,
          -0.18530813743105096,
          0.613138027524433,
          0.6127919931666558,
          0.6124987405144705,
          0.024808528495729464,
          0.44611247372556095,
          0.5401595408078197,
          0.5400959089177254,
          -0.22331530898588195,
          -0.22457649224262524,
          0.4848854390927066,
          -0.014121291483214107,
          0.16601915442233586,
          0.4843513696379778,
          -0.2857502748172988,
          0.018268388925260434,
          -0.041826942412895224,
          0.05724766711887153,
          0.057190395931538414,
          0.017266440560318407,
          0.017245343373218956,
          -0.00013537671412370802,
          0.05467014277002444,
          0.03796002466995209,
          -0.005059857538568895,
          0.0207517602743707,
          0.014546141437391745,
          0.03789409180319844,
          0.008633056847369355,
          0.016065074835447998,
          0.0180285666449648,
          0.0336622844372979,
          0.03373742006139557,
          0.007591546253867866,
          0.03338079565762022
         ]
        }
       ],
       "layout": {
        "height": 700,
        "margin": {
         "b": 0,
         "l": 0,
         "r": 0,
         "t": 0
        },
        "scene": {
         "bgcolor": "white",
         "xaxis": {
          "title": {
           "text": "Market Premium"
          }
         },
         "yaxis": {
          "title": {
           "text": "Size Premium"
          }
         },
         "zaxis": {
          "title": {
           "text": "Value Premium"
          }
         }
        },
        "template": {
         "data": {
          "bar": [
           {
            "error_x": {
             "color": "#2a3f5f"
            },
            "error_y": {
             "color": "#2a3f5f"
            },
            "marker": {
             "line": {
              "color": "#E5ECF6",
              "width": 0.5
             },
             "pattern": {
              "fillmode": "overlay",
              "size": 10,
              "solidity": 0.2
             }
            },
            "type": "bar"
           }
          ],
          "barpolar": [
           {
            "marker": {
             "line": {
              "color": "#E5ECF6",
              "width": 0.5
             },
             "pattern": {
              "fillmode": "overlay",
              "size": 10,
              "solidity": 0.2
             }
            },
            "type": "barpolar"
           }
          ],
          "carpet": [
           {
            "aaxis": {
             "endlinecolor": "#2a3f5f",
             "gridcolor": "white",
             "linecolor": "white",
             "minorgridcolor": "white",
             "startlinecolor": "#2a3f5f"
            },
            "baxis": {
             "endlinecolor": "#2a3f5f",
             "gridcolor": "white",
             "linecolor": "white",
             "minorgridcolor": "white",
             "startlinecolor": "#2a3f5f"
            },
            "type": "carpet"
           }
          ],
          "choropleth": [
           {
            "colorbar": {
             "outlinewidth": 0,
             "ticks": ""
            },
            "type": "choropleth"
           }
          ],
          "contour": [
           {
            "colorbar": {
             "outlinewidth": 0,
             "ticks": ""
            },
            "colorscale": [
             [
              0,
              "#0d0887"
             ],
             [
              0.1111111111111111,
              "#46039f"
             ],
             [
              0.2222222222222222,
              "#7201a8"
             ],
             [
              0.3333333333333333,
              "#9c179e"
             ],
             [
              0.4444444444444444,
              "#bd3786"
             ],
             [
              0.5555555555555556,
              "#d8576b"
             ],
             [
              0.6666666666666666,
              "#ed7953"
             ],
             [
              0.7777777777777778,
              "#fb9f3a"
             ],
             [
              0.8888888888888888,
              "#fdca26"
             ],
             [
              1,
              "#f0f921"
             ]
            ],
            "type": "contour"
           }
          ],
          "contourcarpet": [
           {
            "colorbar": {
             "outlinewidth": 0,
             "ticks": ""
            },
            "type": "contourcarpet"
           }
          ],
          "heatmap": [
           {
            "colorbar": {
             "outlinewidth": 0,
             "ticks": ""
            },
            "colorscale": [
             [
              0,
              "#0d0887"
             ],
             [
              0.1111111111111111,
              "#46039f"
             ],
             [
              0.2222222222222222,
              "#7201a8"
             ],
             [
              0.3333333333333333,
              "#9c179e"
             ],
             [
              0.4444444444444444,
              "#bd3786"
             ],
             [
              0.5555555555555556,
              "#d8576b"
             ],
             [
              0.6666666666666666,
              "#ed7953"
             ],
             [
              0.7777777777777778,
              "#fb9f3a"
             ],
             [
              0.8888888888888888,
              "#fdca26"
             ],
             [
              1,
              "#f0f921"
             ]
            ],
            "type": "heatmap"
           }
          ],
          "heatmapgl": [
           {
            "colorbar": {
             "outlinewidth": 0,
             "ticks": ""
            },
            "colorscale": [
             [
              0,
              "#0d0887"
             ],
             [
              0.1111111111111111,
              "#46039f"
             ],
             [
              0.2222222222222222,
              "#7201a8"
             ],
             [
              0.3333333333333333,
              "#9c179e"
             ],
             [
              0.4444444444444444,
              "#bd3786"
             ],
             [
              0.5555555555555556,
              "#d8576b"
             ],
             [
              0.6666666666666666,
              "#ed7953"
             ],
             [
              0.7777777777777778,
              "#fb9f3a"
             ],
             [
              0.8888888888888888,
              "#fdca26"
             ],
             [
              1,
              "#f0f921"
             ]
            ],
            "type": "heatmapgl"
           }
          ],
          "histogram": [
           {
            "marker": {
             "pattern": {
              "fillmode": "overlay",
              "size": 10,
              "solidity": 0.2
             }
            },
            "type": "histogram"
           }
          ],
          "histogram2d": [
           {
            "colorbar": {
             "outlinewidth": 0,
             "ticks": ""
            },
            "colorscale": [
             [
              0,
              "#0d0887"
             ],
             [
              0.1111111111111111,
              "#46039f"
             ],
             [
              0.2222222222222222,
              "#7201a8"
             ],
             [
              0.3333333333333333,
              "#9c179e"
             ],
             [
              0.4444444444444444,
              "#bd3786"
             ],
             [
              0.5555555555555556,
              "#d8576b"
             ],
             [
              0.6666666666666666,
              "#ed7953"
             ],
             [
              0.7777777777777778,
              "#fb9f3a"
             ],
             [
              0.8888888888888888,
              "#fdca26"
             ],
             [
              1,
              "#f0f921"
             ]
            ],
            "type": "histogram2d"
           }
          ],
          "histogram2dcontour": [
           {
            "colorbar": {
             "outlinewidth": 0,
             "ticks": ""
            },
            "colorscale": [
             [
              0,
              "#0d0887"
             ],
             [
              0.1111111111111111,
              "#46039f"
             ],
             [
              0.2222222222222222,
              "#7201a8"
             ],
             [
              0.3333333333333333,
              "#9c179e"
             ],
             [
              0.4444444444444444,
              "#bd3786"
             ],
             [
              0.5555555555555556,
              "#d8576b"
             ],
             [
              0.6666666666666666,
              "#ed7953"
             ],
             [
              0.7777777777777778,
              "#fb9f3a"
             ],
             [
              0.8888888888888888,
              "#fdca26"
             ],
             [
              1,
              "#f0f921"
             ]
            ],
            "type": "histogram2dcontour"
           }
          ],
          "mesh3d": [
           {
            "colorbar": {
             "outlinewidth": 0,
             "ticks": ""
            },
            "type": "mesh3d"
           }
          ],
          "parcoords": [
           {
            "line": {
             "colorbar": {
              "outlinewidth": 0,
              "ticks": ""
             }
            },
            "type": "parcoords"
           }
          ],
          "pie": [
           {
            "automargin": true,
            "type": "pie"
           }
          ],
          "scatter": [
           {
            "fillpattern": {
             "fillmode": "overlay",
             "size": 10,
             "solidity": 0.2
            },
            "type": "scatter"
           }
          ],
          "scatter3d": [
           {
            "line": {
             "colorbar": {
              "outlinewidth": 0,
              "ticks": ""
             }
            },
            "marker": {
             "colorbar": {
              "outlinewidth": 0,
              "ticks": ""
             }
            },
            "type": "scatter3d"
           }
          ],
          "scattercarpet": [
           {
            "marker": {
             "colorbar": {
              "outlinewidth": 0,
              "ticks": ""
             }
            },
            "type": "scattercarpet"
           }
          ],
          "scattergeo": [
           {
            "marker": {
             "colorbar": {
              "outlinewidth": 0,
              "ticks": ""
             }
            },
            "type": "scattergeo"
           }
          ],
          "scattergl": [
           {
            "marker": {
             "colorbar": {
              "outlinewidth": 0,
              "ticks": ""
             }
            },
            "type": "scattergl"
           }
          ],
          "scattermapbox": [
           {
            "marker": {
             "colorbar": {
              "outlinewidth": 0,
              "ticks": ""
             }
            },
            "type": "scattermapbox"
           }
          ],
          "scatterpolar": [
           {
            "marker": {
             "colorbar": {
              "outlinewidth": 0,
              "ticks": ""
             }
            },
            "type": "scatterpolar"
           }
          ],
          "scatterpolargl": [
           {
            "marker": {
             "colorbar": {
              "outlinewidth": 0,
              "ticks": ""
             }
            },
            "type": "scatterpolargl"
           }
          ],
          "scatterternary": [
           {
            "marker": {
             "colorbar": {
              "outlinewidth": 0,
              "ticks": ""
             }
            },
            "type": "scatterternary"
           }
          ],
          "surface": [
           {
            "colorbar": {
             "outlinewidth": 0,
             "ticks": ""
            },
            "colorscale": [
             [
              0,
              "#0d0887"
             ],
             [
              0.1111111111111111,
              "#46039f"
             ],
             [
              0.2222222222222222,
              "#7201a8"
             ],
             [
              0.3333333333333333,
              "#9c179e"
             ],
             [
              0.4444444444444444,
              "#bd3786"
             ],
             [
              0.5555555555555556,
              "#d8576b"
             ],
             [
              0.6666666666666666,
              "#ed7953"
             ],
             [
              0.7777777777777778,
              "#fb9f3a"
             ],
             [
              0.8888888888888888,
              "#fdca26"
             ],
             [
              1,
              "#f0f921"
             ]
            ],
            "type": "surface"
           }
          ],
          "table": [
           {
            "cells": {
             "fill": {
              "color": "#EBF0F8"
             },
             "line": {
              "color": "white"
             }
            },
            "header": {
             "fill": {
              "color": "#C8D4E3"
             },
             "line": {
              "color": "white"
             }
            },
            "type": "table"
           }
          ]
         },
         "layout": {
          "annotationdefaults": {
           "arrowcolor": "#2a3f5f",
           "arrowhead": 0,
           "arrowwidth": 1
          },
          "autotypenumbers": "strict",
          "coloraxis": {
           "colorbar": {
            "outlinewidth": 0,
            "ticks": ""
           }
          },
          "colorscale": {
           "diverging": [
            [
             0,
             "#8e0152"
            ],
            [
             0.1,
             "#c51b7d"
            ],
            [
             0.2,
             "#de77ae"
            ],
            [
             0.3,
             "#f1b6da"
            ],
            [
             0.4,
             "#fde0ef"
            ],
            [
             0.5,
             "#f7f7f7"
            ],
            [
             0.6,
             "#e6f5d0"
            ],
            [
             0.7,
             "#b8e186"
            ],
            [
             0.8,
             "#7fbc41"
            ],
            [
             0.9,
             "#4d9221"
            ],
            [
             1,
             "#276419"
            ]
           ],
           "sequential": [
            [
             0,
             "#0d0887"
            ],
            [
             0.1111111111111111,
             "#46039f"
            ],
            [
             0.2222222222222222,
             "#7201a8"
            ],
            [
             0.3333333333333333,
             "#9c179e"
            ],
            [
             0.4444444444444444,
             "#bd3786"
            ],
            [
             0.5555555555555556,
             "#d8576b"
            ],
            [
             0.6666666666666666,
             "#ed7953"
            ],
            [
             0.7777777777777778,
             "#fb9f3a"
            ],
            [
             0.8888888888888888,
             "#fdca26"
            ],
            [
             1,
             "#f0f921"
            ]
           ],
           "sequentialminus": [
            [
             0,
             "#0d0887"
            ],
            [
             0.1111111111111111,
             "#46039f"
            ],
            [
             0.2222222222222222,
             "#7201a8"
            ],
            [
             0.3333333333333333,
             "#9c179e"
            ],
            [
             0.4444444444444444,
             "#bd3786"
            ],
            [
             0.5555555555555556,
             "#d8576b"
            ],
            [
             0.6666666666666666,
             "#ed7953"
            ],
            [
             0.7777777777777778,
             "#fb9f3a"
            ],
            [
             0.8888888888888888,
             "#fdca26"
            ],
            [
             1,
             "#f0f921"
            ]
           ]
          },
          "colorway": [
           "#636efa",
           "#EF553B",
           "#00cc96",
           "#ab63fa",
           "#FFA15A",
           "#19d3f3",
           "#FF6692",
           "#B6E880",
           "#FF97FF",
           "#FECB52"
          ],
          "font": {
           "color": "#2a3f5f"
          },
          "geo": {
           "bgcolor": "white",
           "lakecolor": "white",
           "landcolor": "#E5ECF6",
           "showlakes": true,
           "showland": true,
           "subunitcolor": "white"
          },
          "hoverlabel": {
           "align": "left"
          },
          "hovermode": "closest",
          "mapbox": {
           "style": "light"
          },
          "paper_bgcolor": "white",
          "plot_bgcolor": "#E5ECF6",
          "polar": {
           "angularaxis": {
            "gridcolor": "white",
            "linecolor": "white",
            "ticks": ""
           },
           "bgcolor": "#E5ECF6",
           "radialaxis": {
            "gridcolor": "white",
            "linecolor": "white",
            "ticks": ""
           }
          },
          "scene": {
           "xaxis": {
            "backgroundcolor": "#E5ECF6",
            "gridcolor": "white",
            "gridwidth": 2,
            "linecolor": "white",
            "showbackground": true,
            "ticks": "",
            "zerolinecolor": "white"
           },
           "yaxis": {
            "backgroundcolor": "#E5ECF6",
            "gridcolor": "white",
            "gridwidth": 2,
            "linecolor": "white",
            "showbackground": true,
            "ticks": "",
            "zerolinecolor": "white"
           },
           "zaxis": {
            "backgroundcolor": "#E5ECF6",
            "gridcolor": "white",
            "gridwidth": 2,
            "linecolor": "white",
            "showbackground": true,
            "ticks": "",
            "zerolinecolor": "white"
           }
          },
          "shapedefaults": {
           "line": {
            "color": "#2a3f5f"
           }
          },
          "ternary": {
           "aaxis": {
            "gridcolor": "white",
            "linecolor": "white",
            "ticks": ""
           },
           "baxis": {
            "gridcolor": "white",
            "linecolor": "white",
            "ticks": ""
           },
           "bgcolor": "#E5ECF6",
           "caxis": {
            "gridcolor": "white",
            "linecolor": "white",
            "ticks": ""
           }
          },
          "title": {
           "x": 0.05
          },
          "xaxis": {
           "automargin": true,
           "gridcolor": "white",
           "linecolor": "white",
           "ticks": "",
           "title": {
            "standoff": 15
           },
           "zerolinecolor": "white",
           "zerolinewidth": 2
          },
          "yaxis": {
           "automargin": true,
           "gridcolor": "white",
           "linecolor": "white",
           "ticks": "",
           "title": {
            "standoff": 15
           },
           "zerolinecolor": "white",
           "zerolinewidth": 2
          }
         }
        }
       }
      }
     },
     "metadata": {},
     "output_type": "display_data"
    }
   ],
   "source": [
    "fig = go.Figure(data=[go.Scatter3d(\n",
    "    x=params['b1'],\n",
    "    y=params['b2'],\n",
    "    z=params['b3'],\n",
    "    mode='markers',\n",
    "    marker=dict(\n",
    "        size=5,\n",
    "        color=params['b1'],  # Color para el mercado\n",
    "        colorscale='Viridis',\n",
    "        opacity=0.8\n",
    "    ),\n",
    "    text=params.index,  #Nombre de los fondos\n",
    "    hoverinfo='text'  \n",
    ")])\n",
    "\n",
    "fig.update_layout(\n",
    "    scene=dict(\n",
    "        xaxis_title='Market Premium',\n",
    "        yaxis_title='Size Premium',\n",
    "        zaxis_title='Value Premium',\n",
    "        bgcolor='white'  \n",
    "    ),\n",
    "    margin=dict(l=0, r=0, b=0, t=0),\n",
    "    height=700  \n",
    ")\n",
    "\n",
    "fig.show()\n",
    "\n"
   ]
  },
  {
   "cell_type": "code",
   "execution_count": 17,
   "metadata": {},
   "outputs": [],
   "source": [
    "\n",
    "retornos_estrg = pd.read_csv('data/returns_strategies.csv',index_col=0)\n",
    "retornos_estrg.index.names = ['Date']\n",
    "retornos_estrg.index = pd.to_datetime(retornos_estrg.index)"
   ]
  },
  {
   "cell_type": "code",
   "execution_count": 18,
   "metadata": {},
   "outputs": [],
   "source": [
    "retornos_estrg = retornos_estrg.resample('ME').sum()\n",
    "ff_data_estrg     = ff3_monthly.merge(retornos_estrg,on='Date')"
   ]
  },
  {
   "cell_type": "code",
   "execution_count": 19,
   "metadata": {},
   "outputs": [
    {
     "data": {
      "text/html": [
       "<div>\n",
       "<style scoped>\n",
       "    .dataframe tbody tr th:only-of-type {\n",
       "        vertical-align: middle;\n",
       "    }\n",
       "\n",
       "    .dataframe tbody tr th {\n",
       "        vertical-align: top;\n",
       "    }\n",
       "\n",
       "    .dataframe thead th {\n",
       "        text-align: right;\n",
       "    }\n",
       "</style>\n",
       "<table border=\"1\" class=\"dataframe\">\n",
       "  <thead>\n",
       "    <tr style=\"text-align: right;\">\n",
       "      <th></th>\n",
       "      <th>Mkt-RF</th>\n",
       "      <th>SMB</th>\n",
       "      <th>HML</th>\n",
       "      <th>RF</th>\n",
       "      <th>Equally Weighted</th>\n",
       "      <th>Momentum 11M</th>\n",
       "      <th>Momentum 1M</th>\n",
       "    </tr>\n",
       "    <tr>\n",
       "      <th>Date</th>\n",
       "      <th></th>\n",
       "      <th></th>\n",
       "      <th></th>\n",
       "      <th></th>\n",
       "      <th></th>\n",
       "      <th></th>\n",
       "      <th></th>\n",
       "    </tr>\n",
       "  </thead>\n",
       "  <tbody>\n",
       "    <tr>\n",
       "      <th>2017-01-31</th>\n",
       "      <td>0.0194</td>\n",
       "      <td>-0.0116</td>\n",
       "      <td>-0.0276</td>\n",
       "      <td>0.0004</td>\n",
       "      <td>0.009885</td>\n",
       "      <td>0.000043</td>\n",
       "      <td>0.016697</td>\n",
       "    </tr>\n",
       "    <tr>\n",
       "      <th>2017-02-28</th>\n",
       "      <td>0.0355</td>\n",
       "      <td>-0.0215</td>\n",
       "      <td>-0.0150</td>\n",
       "      <td>0.0004</td>\n",
       "      <td>0.019965</td>\n",
       "      <td>0.037953</td>\n",
       "      <td>0.038971</td>\n",
       "    </tr>\n",
       "    <tr>\n",
       "      <th>2017-03-31</th>\n",
       "      <td>0.0017</td>\n",
       "      <td>0.0113</td>\n",
       "      <td>-0.0333</td>\n",
       "      <td>0.0003</td>\n",
       "      <td>0.008535</td>\n",
       "      <td>0.000685</td>\n",
       "      <td>0.026026</td>\n",
       "    </tr>\n",
       "    <tr>\n",
       "      <th>2017-04-30</th>\n",
       "      <td>0.0108</td>\n",
       "      <td>0.0066</td>\n",
       "      <td>-0.0205</td>\n",
       "      <td>0.0005</td>\n",
       "      <td>0.005362</td>\n",
       "      <td>0.008857</td>\n",
       "      <td>0.029557</td>\n",
       "    </tr>\n",
       "    <tr>\n",
       "      <th>2017-05-31</th>\n",
       "      <td>0.0107</td>\n",
       "      <td>-0.0252</td>\n",
       "      <td>-0.0382</td>\n",
       "      <td>0.0006</td>\n",
       "      <td>0.005023</td>\n",
       "      <td>0.038856</td>\n",
       "      <td>0.036274</td>\n",
       "    </tr>\n",
       "  </tbody>\n",
       "</table>\n",
       "</div>"
      ],
      "text/plain": [
       "            Mkt-RF     SMB     HML      RF  Equally Weighted  Momentum 11M  \\\n",
       "Date                                                                         \n",
       "2017-01-31  0.0194 -0.0116 -0.0276  0.0004          0.009885      0.000043   \n",
       "2017-02-28  0.0355 -0.0215 -0.0150  0.0004          0.019965      0.037953   \n",
       "2017-03-31  0.0017  0.0113 -0.0333  0.0003          0.008535      0.000685   \n",
       "2017-04-30  0.0108  0.0066 -0.0205  0.0005          0.005362      0.008857   \n",
       "2017-05-31  0.0107 -0.0252 -0.0382  0.0006          0.005023      0.038856   \n",
       "\n",
       "            Momentum 1M  \n",
       "Date                     \n",
       "2017-01-31     0.016697  \n",
       "2017-02-28     0.038971  \n",
       "2017-03-31     0.026026  \n",
       "2017-04-30     0.029557  \n",
       "2017-05-31     0.036274  "
      ]
     },
     "execution_count": 19,
     "metadata": {},
     "output_type": "execute_result"
    }
   ],
   "source": [
    "ff_data_estrg.head()"
   ]
  },
  {
   "cell_type": "code",
   "execution_count": 20,
   "metadata": {},
   "outputs": [
    {
     "data": {
      "text/html": [
       "<div>\n",
       "<style scoped>\n",
       "    .dataframe tbody tr th:only-of-type {\n",
       "        vertical-align: middle;\n",
       "    }\n",
       "\n",
       "    .dataframe tbody tr th {\n",
       "        vertical-align: top;\n",
       "    }\n",
       "\n",
       "    .dataframe thead th {\n",
       "        text-align: right;\n",
       "    }\n",
       "</style>\n",
       "<table border=\"1\" class=\"dataframe\">\n",
       "  <thead>\n",
       "    <tr style=\"text-align: right;\">\n",
       "      <th></th>\n",
       "      <th>intercept</th>\n",
       "      <th>b1</th>\n",
       "      <th>b2</th>\n",
       "      <th>b3</th>\n",
       "    </tr>\n",
       "  </thead>\n",
       "  <tbody>\n",
       "    <tr>\n",
       "      <th>Equally Weighted</th>\n",
       "      <td>-0.002206</td>\n",
       "      <td>0.489150</td>\n",
       "      <td>0.122091</td>\n",
       "      <td>0.141262</td>\n",
       "    </tr>\n",
       "    <tr>\n",
       "      <th>Momentum 11M</th>\n",
       "      <td>0.001363</td>\n",
       "      <td>0.817258</td>\n",
       "      <td>0.176371</td>\n",
       "      <td>-0.109547</td>\n",
       "    </tr>\n",
       "    <tr>\n",
       "      <th>Momentum 1M</th>\n",
       "      <td>0.000224</td>\n",
       "      <td>0.549389</td>\n",
       "      <td>-0.069151</td>\n",
       "      <td>-0.014608</td>\n",
       "    </tr>\n",
       "  </tbody>\n",
       "</table>\n",
       "</div>"
      ],
      "text/plain": [
       "                  intercept        b1        b2        b3\n",
       "Equally Weighted  -0.002206  0.489150  0.122091  0.141262\n",
       "Momentum 11M       0.001363  0.817258  0.176371 -0.109547\n",
       "Momentum 1M        0.000224  0.549389 -0.069151 -0.014608"
      ]
     },
     "execution_count": 20,
     "metadata": {},
     "output_type": "execute_result"
    }
   ],
   "source": [
    "params_estrg = pd.DataFrame(columns=['intercept', 'b1', 'b2', 'b3'])\n",
    "for col in ff_data_estrg.columns[4:]:\n",
    "    X = ff_data_estrg[['Mkt-RF', 'SMB', 'HML']]\n",
    "    y = ff_data_estrg[col] - ff_data_estrg['RF']\n",
    "    X = sm.add_constant(X)\n",
    "    ff_model = sm.OLS(y, X).fit()\n",
    "    intercept, b1, b2, b3 = ff_model.params\n",
    "    params_estrg.loc[col] =  intercept, b1, b2, b3\n",
    "\n",
    "params_estrg.head()"
   ]
  },
  {
   "cell_type": "code",
   "execution_count": 21,
   "metadata": {},
   "outputs": [
    {
     "data": {
      "application/vnd.plotly.v1+json": {
       "config": {
        "plotlyServerURL": "https://plot.ly"
       },
       "data": [
        {
         "hoverinfo": "text",
         "marker": {
          "color": [
           0.489150173679777,
           0.8172583575042572,
           0.5493892930098011
          ],
          "colorscale": [
           [
            0,
            "#440154"
           ],
           [
            0.1111111111111111,
            "#482878"
           ],
           [
            0.2222222222222222,
            "#3e4989"
           ],
           [
            0.3333333333333333,
            "#31688e"
           ],
           [
            0.4444444444444444,
            "#26828e"
           ],
           [
            0.5555555555555556,
            "#1f9e89"
           ],
           [
            0.6666666666666666,
            "#35b779"
           ],
           [
            0.7777777777777778,
            "#6ece58"
           ],
           [
            0.8888888888888888,
            "#b5de2b"
           ],
           [
            1,
            "#fde725"
           ]
          ],
          "opacity": 0.8,
          "size": 5
         },
         "mode": "markers",
         "text": [
          "Equally Weighted",
          "Momentum 11M",
          "Momentum 1M"
         ],
         "type": "scatter3d",
         "x": [
          0.489150173679777,
          0.8172583575042572,
          0.5493892930098011
         ],
         "y": [
          0.12209139805198058,
          0.17637053429553048,
          -0.06915100961945449
         ],
         "z": [
          0.14126224066785137,
          -0.10954671727203992,
          -0.014607773418954884
         ]
        }
       ],
       "layout": {
        "height": 700,
        "margin": {
         "b": 0,
         "l": 0,
         "r": 0,
         "t": 0
        },
        "scene": {
         "bgcolor": "white",
         "xaxis": {
          "title": {
           "text": "Market Premium"
          }
         },
         "yaxis": {
          "title": {
           "text": "Size Premium"
          }
         },
         "zaxis": {
          "title": {
           "text": "Value Premium"
          }
         }
        },
        "template": {
         "data": {
          "bar": [
           {
            "error_x": {
             "color": "#2a3f5f"
            },
            "error_y": {
             "color": "#2a3f5f"
            },
            "marker": {
             "line": {
              "color": "#E5ECF6",
              "width": 0.5
             },
             "pattern": {
              "fillmode": "overlay",
              "size": 10,
              "solidity": 0.2
             }
            },
            "type": "bar"
           }
          ],
          "barpolar": [
           {
            "marker": {
             "line": {
              "color": "#E5ECF6",
              "width": 0.5
             },
             "pattern": {
              "fillmode": "overlay",
              "size": 10,
              "solidity": 0.2
             }
            },
            "type": "barpolar"
           }
          ],
          "carpet": [
           {
            "aaxis": {
             "endlinecolor": "#2a3f5f",
             "gridcolor": "white",
             "linecolor": "white",
             "minorgridcolor": "white",
             "startlinecolor": "#2a3f5f"
            },
            "baxis": {
             "endlinecolor": "#2a3f5f",
             "gridcolor": "white",
             "linecolor": "white",
             "minorgridcolor": "white",
             "startlinecolor": "#2a3f5f"
            },
            "type": "carpet"
           }
          ],
          "choropleth": [
           {
            "colorbar": {
             "outlinewidth": 0,
             "ticks": ""
            },
            "type": "choropleth"
           }
          ],
          "contour": [
           {
            "colorbar": {
             "outlinewidth": 0,
             "ticks": ""
            },
            "colorscale": [
             [
              0,
              "#0d0887"
             ],
             [
              0.1111111111111111,
              "#46039f"
             ],
             [
              0.2222222222222222,
              "#7201a8"
             ],
             [
              0.3333333333333333,
              "#9c179e"
             ],
             [
              0.4444444444444444,
              "#bd3786"
             ],
             [
              0.5555555555555556,
              "#d8576b"
             ],
             [
              0.6666666666666666,
              "#ed7953"
             ],
             [
              0.7777777777777778,
              "#fb9f3a"
             ],
             [
              0.8888888888888888,
              "#fdca26"
             ],
             [
              1,
              "#f0f921"
             ]
            ],
            "type": "contour"
           }
          ],
          "contourcarpet": [
           {
            "colorbar": {
             "outlinewidth": 0,
             "ticks": ""
            },
            "type": "contourcarpet"
           }
          ],
          "heatmap": [
           {
            "colorbar": {
             "outlinewidth": 0,
             "ticks": ""
            },
            "colorscale": [
             [
              0,
              "#0d0887"
             ],
             [
              0.1111111111111111,
              "#46039f"
             ],
             [
              0.2222222222222222,
              "#7201a8"
             ],
             [
              0.3333333333333333,
              "#9c179e"
             ],
             [
              0.4444444444444444,
              "#bd3786"
             ],
             [
              0.5555555555555556,
              "#d8576b"
             ],
             [
              0.6666666666666666,
              "#ed7953"
             ],
             [
              0.7777777777777778,
              "#fb9f3a"
             ],
             [
              0.8888888888888888,
              "#fdca26"
             ],
             [
              1,
              "#f0f921"
             ]
            ],
            "type": "heatmap"
           }
          ],
          "heatmapgl": [
           {
            "colorbar": {
             "outlinewidth": 0,
             "ticks": ""
            },
            "colorscale": [
             [
              0,
              "#0d0887"
             ],
             [
              0.1111111111111111,
              "#46039f"
             ],
             [
              0.2222222222222222,
              "#7201a8"
             ],
             [
              0.3333333333333333,
              "#9c179e"
             ],
             [
              0.4444444444444444,
              "#bd3786"
             ],
             [
              0.5555555555555556,
              "#d8576b"
             ],
             [
              0.6666666666666666,
              "#ed7953"
             ],
             [
              0.7777777777777778,
              "#fb9f3a"
             ],
             [
              0.8888888888888888,
              "#fdca26"
             ],
             [
              1,
              "#f0f921"
             ]
            ],
            "type": "heatmapgl"
           }
          ],
          "histogram": [
           {
            "marker": {
             "pattern": {
              "fillmode": "overlay",
              "size": 10,
              "solidity": 0.2
             }
            },
            "type": "histogram"
           }
          ],
          "histogram2d": [
           {
            "colorbar": {
             "outlinewidth": 0,
             "ticks": ""
            },
            "colorscale": [
             [
              0,
              "#0d0887"
             ],
             [
              0.1111111111111111,
              "#46039f"
             ],
             [
              0.2222222222222222,
              "#7201a8"
             ],
             [
              0.3333333333333333,
              "#9c179e"
             ],
             [
              0.4444444444444444,
              "#bd3786"
             ],
             [
              0.5555555555555556,
              "#d8576b"
             ],
             [
              0.6666666666666666,
              "#ed7953"
             ],
             [
              0.7777777777777778,
              "#fb9f3a"
             ],
             [
              0.8888888888888888,
              "#fdca26"
             ],
             [
              1,
              "#f0f921"
             ]
            ],
            "type": "histogram2d"
           }
          ],
          "histogram2dcontour": [
           {
            "colorbar": {
             "outlinewidth": 0,
             "ticks": ""
            },
            "colorscale": [
             [
              0,
              "#0d0887"
             ],
             [
              0.1111111111111111,
              "#46039f"
             ],
             [
              0.2222222222222222,
              "#7201a8"
             ],
             [
              0.3333333333333333,
              "#9c179e"
             ],
             [
              0.4444444444444444,
              "#bd3786"
             ],
             [
              0.5555555555555556,
              "#d8576b"
             ],
             [
              0.6666666666666666,
              "#ed7953"
             ],
             [
              0.7777777777777778,
              "#fb9f3a"
             ],
             [
              0.8888888888888888,
              "#fdca26"
             ],
             [
              1,
              "#f0f921"
             ]
            ],
            "type": "histogram2dcontour"
           }
          ],
          "mesh3d": [
           {
            "colorbar": {
             "outlinewidth": 0,
             "ticks": ""
            },
            "type": "mesh3d"
           }
          ],
          "parcoords": [
           {
            "line": {
             "colorbar": {
              "outlinewidth": 0,
              "ticks": ""
             }
            },
            "type": "parcoords"
           }
          ],
          "pie": [
           {
            "automargin": true,
            "type": "pie"
           }
          ],
          "scatter": [
           {
            "fillpattern": {
             "fillmode": "overlay",
             "size": 10,
             "solidity": 0.2
            },
            "type": "scatter"
           }
          ],
          "scatter3d": [
           {
            "line": {
             "colorbar": {
              "outlinewidth": 0,
              "ticks": ""
             }
            },
            "marker": {
             "colorbar": {
              "outlinewidth": 0,
              "ticks": ""
             }
            },
            "type": "scatter3d"
           }
          ],
          "scattercarpet": [
           {
            "marker": {
             "colorbar": {
              "outlinewidth": 0,
              "ticks": ""
             }
            },
            "type": "scattercarpet"
           }
          ],
          "scattergeo": [
           {
            "marker": {
             "colorbar": {
              "outlinewidth": 0,
              "ticks": ""
             }
            },
            "type": "scattergeo"
           }
          ],
          "scattergl": [
           {
            "marker": {
             "colorbar": {
              "outlinewidth": 0,
              "ticks": ""
             }
            },
            "type": "scattergl"
           }
          ],
          "scattermapbox": [
           {
            "marker": {
             "colorbar": {
              "outlinewidth": 0,
              "ticks": ""
             }
            },
            "type": "scattermapbox"
           }
          ],
          "scatterpolar": [
           {
            "marker": {
             "colorbar": {
              "outlinewidth": 0,
              "ticks": ""
             }
            },
            "type": "scatterpolar"
           }
          ],
          "scatterpolargl": [
           {
            "marker": {
             "colorbar": {
              "outlinewidth": 0,
              "ticks": ""
             }
            },
            "type": "scatterpolargl"
           }
          ],
          "scatterternary": [
           {
            "marker": {
             "colorbar": {
              "outlinewidth": 0,
              "ticks": ""
             }
            },
            "type": "scatterternary"
           }
          ],
          "surface": [
           {
            "colorbar": {
             "outlinewidth": 0,
             "ticks": ""
            },
            "colorscale": [
             [
              0,
              "#0d0887"
             ],
             [
              0.1111111111111111,
              "#46039f"
             ],
             [
              0.2222222222222222,
              "#7201a8"
             ],
             [
              0.3333333333333333,
              "#9c179e"
             ],
             [
              0.4444444444444444,
              "#bd3786"
             ],
             [
              0.5555555555555556,
              "#d8576b"
             ],
             [
              0.6666666666666666,
              "#ed7953"
             ],
             [
              0.7777777777777778,
              "#fb9f3a"
             ],
             [
              0.8888888888888888,
              "#fdca26"
             ],
             [
              1,
              "#f0f921"
             ]
            ],
            "type": "surface"
           }
          ],
          "table": [
           {
            "cells": {
             "fill": {
              "color": "#EBF0F8"
             },
             "line": {
              "color": "white"
             }
            },
            "header": {
             "fill": {
              "color": "#C8D4E3"
             },
             "line": {
              "color": "white"
             }
            },
            "type": "table"
           }
          ]
         },
         "layout": {
          "annotationdefaults": {
           "arrowcolor": "#2a3f5f",
           "arrowhead": 0,
           "arrowwidth": 1
          },
          "autotypenumbers": "strict",
          "coloraxis": {
           "colorbar": {
            "outlinewidth": 0,
            "ticks": ""
           }
          },
          "colorscale": {
           "diverging": [
            [
             0,
             "#8e0152"
            ],
            [
             0.1,
             "#c51b7d"
            ],
            [
             0.2,
             "#de77ae"
            ],
            [
             0.3,
             "#f1b6da"
            ],
            [
             0.4,
             "#fde0ef"
            ],
            [
             0.5,
             "#f7f7f7"
            ],
            [
             0.6,
             "#e6f5d0"
            ],
            [
             0.7,
             "#b8e186"
            ],
            [
             0.8,
             "#7fbc41"
            ],
            [
             0.9,
             "#4d9221"
            ],
            [
             1,
             "#276419"
            ]
           ],
           "sequential": [
            [
             0,
             "#0d0887"
            ],
            [
             0.1111111111111111,
             "#46039f"
            ],
            [
             0.2222222222222222,
             "#7201a8"
            ],
            [
             0.3333333333333333,
             "#9c179e"
            ],
            [
             0.4444444444444444,
             "#bd3786"
            ],
            [
             0.5555555555555556,
             "#d8576b"
            ],
            [
             0.6666666666666666,
             "#ed7953"
            ],
            [
             0.7777777777777778,
             "#fb9f3a"
            ],
            [
             0.8888888888888888,
             "#fdca26"
            ],
            [
             1,
             "#f0f921"
            ]
           ],
           "sequentialminus": [
            [
             0,
             "#0d0887"
            ],
            [
             0.1111111111111111,
             "#46039f"
            ],
            [
             0.2222222222222222,
             "#7201a8"
            ],
            [
             0.3333333333333333,
             "#9c179e"
            ],
            [
             0.4444444444444444,
             "#bd3786"
            ],
            [
             0.5555555555555556,
             "#d8576b"
            ],
            [
             0.6666666666666666,
             "#ed7953"
            ],
            [
             0.7777777777777778,
             "#fb9f3a"
            ],
            [
             0.8888888888888888,
             "#fdca26"
            ],
            [
             1,
             "#f0f921"
            ]
           ]
          },
          "colorway": [
           "#636efa",
           "#EF553B",
           "#00cc96",
           "#ab63fa",
           "#FFA15A",
           "#19d3f3",
           "#FF6692",
           "#B6E880",
           "#FF97FF",
           "#FECB52"
          ],
          "font": {
           "color": "#2a3f5f"
          },
          "geo": {
           "bgcolor": "white",
           "lakecolor": "white",
           "landcolor": "#E5ECF6",
           "showlakes": true,
           "showland": true,
           "subunitcolor": "white"
          },
          "hoverlabel": {
           "align": "left"
          },
          "hovermode": "closest",
          "mapbox": {
           "style": "light"
          },
          "paper_bgcolor": "white",
          "plot_bgcolor": "#E5ECF6",
          "polar": {
           "angularaxis": {
            "gridcolor": "white",
            "linecolor": "white",
            "ticks": ""
           },
           "bgcolor": "#E5ECF6",
           "radialaxis": {
            "gridcolor": "white",
            "linecolor": "white",
            "ticks": ""
           }
          },
          "scene": {
           "xaxis": {
            "backgroundcolor": "#E5ECF6",
            "gridcolor": "white",
            "gridwidth": 2,
            "linecolor": "white",
            "showbackground": true,
            "ticks": "",
            "zerolinecolor": "white"
           },
           "yaxis": {
            "backgroundcolor": "#E5ECF6",
            "gridcolor": "white",
            "gridwidth": 2,
            "linecolor": "white",
            "showbackground": true,
            "ticks": "",
            "zerolinecolor": "white"
           },
           "zaxis": {
            "backgroundcolor": "#E5ECF6",
            "gridcolor": "white",
            "gridwidth": 2,
            "linecolor": "white",
            "showbackground": true,
            "ticks": "",
            "zerolinecolor": "white"
           }
          },
          "shapedefaults": {
           "line": {
            "color": "#2a3f5f"
           }
          },
          "ternary": {
           "aaxis": {
            "gridcolor": "white",
            "linecolor": "white",
            "ticks": ""
           },
           "baxis": {
            "gridcolor": "white",
            "linecolor": "white",
            "ticks": ""
           },
           "bgcolor": "#E5ECF6",
           "caxis": {
            "gridcolor": "white",
            "linecolor": "white",
            "ticks": ""
           }
          },
          "title": {
           "x": 0.05
          },
          "xaxis": {
           "automargin": true,
           "gridcolor": "white",
           "linecolor": "white",
           "ticks": "",
           "title": {
            "standoff": 15
           },
           "zerolinecolor": "white",
           "zerolinewidth": 2
          },
          "yaxis": {
           "automargin": true,
           "gridcolor": "white",
           "linecolor": "white",
           "ticks": "",
           "title": {
            "standoff": 15
           },
           "zerolinecolor": "white",
           "zerolinewidth": 2
          }
         }
        }
       }
      }
     },
     "metadata": {},
     "output_type": "display_data"
    }
   ],
   "source": [
    "fig = go.Figure(data=[go.Scatter3d(\n",
    "    x=params_estrg['b1'],\n",
    "    y=params_estrg['b2'],\n",
    "    z=params_estrg['b3'],\n",
    "    mode='markers',\n",
    "    marker=dict(\n",
    "        size=5,\n",
    "        color=params_estrg['b1'],  \n",
    "        colorscale='Viridis',\n",
    "        opacity=0.8\n",
    "    ),\n",
    "    text=params_estrg.index,  \n",
    "    hoverinfo='text'  \n",
    ")])\n",
    "\n",
    "fig.update_layout(\n",
    "    scene=dict(\n",
    "        xaxis_title='Market Premium',\n",
    "        yaxis_title='Size Premium',\n",
    "        zaxis_title='Value Premium',\n",
    "        bgcolor='white'  \n",
    "    ),\n",
    "    margin=dict(l=0, r=0, b=0, t=0),\n",
    "    height=700  \n",
    ")\n",
    "\n",
    "fig.show()"
   ]
  },
  {
   "cell_type": "markdown",
   "metadata": {},
   "source": [
    "### <span style=\"color:white\">Retornos y Factores</span>"
   ]
  },
  {
   "cell_type": "code",
   "execution_count": 22,
   "metadata": {},
   "outputs": [],
   "source": [
    "retornos_carhart = retornos.copy()"
   ]
  },
  {
   "cell_type": "code",
   "execution_count": 23,
   "metadata": {},
   "outputs": [],
   "source": [
    "ff4_monthly = gff.carhart4Factor(frequency='m')\n",
    "ff4_monthly.rename(columns={\"date_ff_factors\": 'Date'}, inplace=True)\n",
    "ff4_monthly.set_index('Date', inplace=True)"
   ]
  },
  {
   "cell_type": "code",
   "execution_count": 24,
   "metadata": {},
   "outputs": [],
   "source": [
    "retornos_carhart = retornos_carhart.resample('ME').sum()\n",
    "ff_carhart     = ff4_monthly.merge(retornos_carhart,on='Date')"
   ]
  },
  {
   "cell_type": "code",
   "execution_count": 25,
   "metadata": {},
   "outputs": [
    {
     "data": {
      "text/html": [
       "<div>\n",
       "<style scoped>\n",
       "    .dataframe tbody tr th:only-of-type {\n",
       "        vertical-align: middle;\n",
       "    }\n",
       "\n",
       "    .dataframe tbody tr th {\n",
       "        vertical-align: top;\n",
       "    }\n",
       "\n",
       "    .dataframe thead th {\n",
       "        text-align: right;\n",
       "    }\n",
       "</style>\n",
       "<table border=\"1\" class=\"dataframe\">\n",
       "  <thead>\n",
       "    <tr style=\"text-align: right;\">\n",
       "      <th></th>\n",
       "      <th>Mkt-RF</th>\n",
       "      <th>SMB</th>\n",
       "      <th>HML</th>\n",
       "      <th>RF</th>\n",
       "      <th>MOM</th>\n",
       "      <th>LU0272423913</th>\n",
       "      <th>LU0474536744</th>\n",
       "      <th>LU0147408487</th>\n",
       "      <th>LU1160359102</th>\n",
       "      <th>LU1160358633</th>\n",
       "      <th>...</th>\n",
       "      <th>IE00BLY1N519</th>\n",
       "      <th>IE00BLY27S52</th>\n",
       "      <th>LU0963986467</th>\n",
       "      <th>LU0858297186</th>\n",
       "      <th>IE00BLWF5D72</th>\n",
       "      <th>IE00BLWF5F96</th>\n",
       "      <th>IE00BHCR9339</th>\n",
       "      <th>IE00BCRY5R01</th>\n",
       "      <th>LU0858297772</th>\n",
       "      <th>LU0963987275</th>\n",
       "    </tr>\n",
       "    <tr>\n",
       "      <th>Date</th>\n",
       "      <th></th>\n",
       "      <th></th>\n",
       "      <th></th>\n",
       "      <th></th>\n",
       "      <th></th>\n",
       "      <th></th>\n",
       "      <th></th>\n",
       "      <th></th>\n",
       "      <th></th>\n",
       "      <th></th>\n",
       "      <th></th>\n",
       "      <th></th>\n",
       "      <th></th>\n",
       "      <th></th>\n",
       "      <th></th>\n",
       "      <th></th>\n",
       "      <th></th>\n",
       "      <th></th>\n",
       "      <th></th>\n",
       "      <th></th>\n",
       "      <th></th>\n",
       "    </tr>\n",
       "  </thead>\n",
       "  <tbody>\n",
       "    <tr>\n",
       "      <th>2016-01-31</th>\n",
       "      <td>-0.0574</td>\n",
       "      <td>-0.0340</td>\n",
       "      <td>0.0208</td>\n",
       "      <td>0.0001</td>\n",
       "      <td>0.0160</td>\n",
       "      <td>-0.034598</td>\n",
       "      <td>-0.093074</td>\n",
       "      <td>-0.073783</td>\n",
       "      <td>-0.098300</td>\n",
       "      <td>-0.098034</td>\n",
       "      <td>...</td>\n",
       "      <td>-2.044990e-03</td>\n",
       "      <td>-0.002662</td>\n",
       "      <td>-0.010042</td>\n",
       "      <td>-0.006104</td>\n",
       "      <td>-0.001010</td>\n",
       "      <td>-1.001803e-16</td>\n",
       "      <td>-0.008401</td>\n",
       "      <td>-0.008935</td>\n",
       "      <td>-0.005799</td>\n",
       "      <td>-0.008933</td>\n",
       "    </tr>\n",
       "    <tr>\n",
       "      <th>2016-02-29</th>\n",
       "      <td>-0.0006</td>\n",
       "      <td>0.0073</td>\n",
       "      <td>-0.0061</td>\n",
       "      <td>0.0002</td>\n",
       "      <td>-0.0435</td>\n",
       "      <td>0.037781</td>\n",
       "      <td>-0.023353</td>\n",
       "      <td>-0.010437</td>\n",
       "      <td>-0.012362</td>\n",
       "      <td>-0.011971</td>\n",
       "      <td>...</td>\n",
       "      <td>-4.000706e-16</td>\n",
       "      <td>0.000158</td>\n",
       "      <td>-0.004321</td>\n",
       "      <td>-0.008755</td>\n",
       "      <td>0.002018</td>\n",
       "      <td>2.022245e-03</td>\n",
       "      <td>-0.006546</td>\n",
       "      <td>-0.007125</td>\n",
       "      <td>-0.008299</td>\n",
       "      <td>-0.003473</td>\n",
       "    </tr>\n",
       "    <tr>\n",
       "      <th>2016-03-31</th>\n",
       "      <td>0.0695</td>\n",
       "      <td>0.0075</td>\n",
       "      <td>0.0122</td>\n",
       "      <td>0.0002</td>\n",
       "      <td>-0.0504</td>\n",
       "      <td>0.095888</td>\n",
       "      <td>0.117783</td>\n",
       "      <td>0.069037</td>\n",
       "      <td>0.039416</td>\n",
       "      <td>0.039669</td>\n",
       "      <td>...</td>\n",
       "      <td>1.523646e-02</td>\n",
       "      <td>0.014879</td>\n",
       "      <td>0.026417</td>\n",
       "      <td>0.006157</td>\n",
       "      <td>0.016992</td>\n",
       "      <td>1.702595e-02</td>\n",
       "      <td>0.024755</td>\n",
       "      <td>0.024125</td>\n",
       "      <td>0.006972</td>\n",
       "      <td>0.028049</td>\n",
       "    </tr>\n",
       "    <tr>\n",
       "      <th>2016-04-30</th>\n",
       "      <td>0.0092</td>\n",
       "      <td>0.0077</td>\n",
       "      <td>0.0322</td>\n",
       "      <td>0.0001</td>\n",
       "      <td>-0.0598</td>\n",
       "      <td>0.063395</td>\n",
       "      <td>0.004731</td>\n",
       "      <td>-0.034873</td>\n",
       "      <td>0.042598</td>\n",
       "      <td>0.042936</td>\n",
       "      <td>...</td>\n",
       "      <td>2.014099e-03</td>\n",
       "      <td>0.001202</td>\n",
       "      <td>0.013708</td>\n",
       "      <td>0.002494</td>\n",
       "      <td>0.003956</td>\n",
       "      <td>3.964326e-03</td>\n",
       "      <td>0.012797</td>\n",
       "      <td>0.012176</td>\n",
       "      <td>0.003264</td>\n",
       "      <td>0.015108</td>\n",
       "    </tr>\n",
       "    <tr>\n",
       "      <th>2016-05-31</th>\n",
       "      <td>0.0178</td>\n",
       "      <td>-0.0018</td>\n",
       "      <td>-0.0162</td>\n",
       "      <td>0.0001</td>\n",
       "      <td>0.0147</td>\n",
       "      <td>-0.003620</td>\n",
       "      <td>-0.017001</td>\n",
       "      <td>0.042190</td>\n",
       "      <td>0.012212</td>\n",
       "      <td>0.012618</td>\n",
       "      <td>...</td>\n",
       "      <td>1.299369e-02</td>\n",
       "      <td>0.012678</td>\n",
       "      <td>0.000473</td>\n",
       "      <td>0.003108</td>\n",
       "      <td>0.014699</td>\n",
       "      <td>1.472781e-02</td>\n",
       "      <td>0.003562</td>\n",
       "      <td>0.002927</td>\n",
       "      <td>0.003761</td>\n",
       "      <td>0.001860</td>\n",
       "    </tr>\n",
       "  </tbody>\n",
       "</table>\n",
       "<p>5 rows × 45 columns</p>\n",
       "</div>"
      ],
      "text/plain": [
       "            Mkt-RF     SMB     HML      RF     MOM  LU0272423913  \\\n",
       "Date                                                               \n",
       "2016-01-31 -0.0574 -0.0340  0.0208  0.0001  0.0160     -0.034598   \n",
       "2016-02-29 -0.0006  0.0073 -0.0061  0.0002 -0.0435      0.037781   \n",
       "2016-03-31  0.0695  0.0075  0.0122  0.0002 -0.0504      0.095888   \n",
       "2016-04-30  0.0092  0.0077  0.0322  0.0001 -0.0598      0.063395   \n",
       "2016-05-31  0.0178 -0.0018 -0.0162  0.0001  0.0147     -0.003620   \n",
       "\n",
       "            LU0474536744  LU0147408487  LU1160359102  LU1160358633  ...  \\\n",
       "Date                                                                ...   \n",
       "2016-01-31     -0.093074     -0.073783     -0.098300     -0.098034  ...   \n",
       "2016-02-29     -0.023353     -0.010437     -0.012362     -0.011971  ...   \n",
       "2016-03-31      0.117783      0.069037      0.039416      0.039669  ...   \n",
       "2016-04-30      0.004731     -0.034873      0.042598      0.042936  ...   \n",
       "2016-05-31     -0.017001      0.042190      0.012212      0.012618  ...   \n",
       "\n",
       "            IE00BLY1N519  IE00BLY27S52  LU0963986467  LU0858297186  \\\n",
       "Date                                                                 \n",
       "2016-01-31 -2.044990e-03     -0.002662     -0.010042     -0.006104   \n",
       "2016-02-29 -4.000706e-16      0.000158     -0.004321     -0.008755   \n",
       "2016-03-31  1.523646e-02      0.014879      0.026417      0.006157   \n",
       "2016-04-30  2.014099e-03      0.001202      0.013708      0.002494   \n",
       "2016-05-31  1.299369e-02      0.012678      0.000473      0.003108   \n",
       "\n",
       "            IE00BLWF5D72  IE00BLWF5F96  IE00BHCR9339  IE00BCRY5R01  \\\n",
       "Date                                                                 \n",
       "2016-01-31     -0.001010 -1.001803e-16     -0.008401     -0.008935   \n",
       "2016-02-29      0.002018  2.022245e-03     -0.006546     -0.007125   \n",
       "2016-03-31      0.016992  1.702595e-02      0.024755      0.024125   \n",
       "2016-04-30      0.003956  3.964326e-03      0.012797      0.012176   \n",
       "2016-05-31      0.014699  1.472781e-02      0.003562      0.002927   \n",
       "\n",
       "            LU0858297772  LU0963987275  \n",
       "Date                                    \n",
       "2016-01-31     -0.005799     -0.008933  \n",
       "2016-02-29     -0.008299     -0.003473  \n",
       "2016-03-31      0.006972      0.028049  \n",
       "2016-04-30      0.003264      0.015108  \n",
       "2016-05-31      0.003761      0.001860  \n",
       "\n",
       "[5 rows x 45 columns]"
      ]
     },
     "execution_count": 25,
     "metadata": {},
     "output_type": "execute_result"
    }
   ],
   "source": [
    "ff_carhart.head()"
   ]
  },
  {
   "cell_type": "code",
   "execution_count": 26,
   "metadata": {},
   "outputs": [
    {
     "data": {
      "text/html": [
       "<div>\n",
       "<style scoped>\n",
       "    .dataframe tbody tr th:only-of-type {\n",
       "        vertical-align: middle;\n",
       "    }\n",
       "\n",
       "    .dataframe tbody tr th {\n",
       "        vertical-align: top;\n",
       "    }\n",
       "\n",
       "    .dataframe thead th {\n",
       "        text-align: right;\n",
       "    }\n",
       "</style>\n",
       "<table border=\"1\" class=\"dataframe\">\n",
       "  <thead>\n",
       "    <tr style=\"text-align: right;\">\n",
       "      <th></th>\n",
       "      <th>intercept</th>\n",
       "      <th>b1</th>\n",
       "      <th>b2</th>\n",
       "      <th>b3</th>\n",
       "      <th>b4</th>\n",
       "    </tr>\n",
       "  </thead>\n",
       "  <tbody>\n",
       "    <tr>\n",
       "      <th>LU0272423913</th>\n",
       "      <td>-0.008023</td>\n",
       "      <td>1.024096</td>\n",
       "      <td>0.121975</td>\n",
       "      <td>0.353952</td>\n",
       "      <td>-0.147123</td>\n",
       "    </tr>\n",
       "    <tr>\n",
       "      <th>LU0474536744</th>\n",
       "      <td>-0.001022</td>\n",
       "      <td>0.784394</td>\n",
       "      <td>0.241739</td>\n",
       "      <td>-0.164902</td>\n",
       "      <td>0.004499</td>\n",
       "    </tr>\n",
       "    <tr>\n",
       "      <th>LU0147408487</th>\n",
       "      <td>0.003751</td>\n",
       "      <td>1.144738</td>\n",
       "      <td>0.271514</td>\n",
       "      <td>-0.504375</td>\n",
       "      <td>0.249668</td>\n",
       "    </tr>\n",
       "    <tr>\n",
       "      <th>LU1160359102</th>\n",
       "      <td>-0.009638</td>\n",
       "      <td>0.914379</td>\n",
       "      <td>0.231066</td>\n",
       "      <td>0.440228</td>\n",
       "      <td>-0.211396</td>\n",
       "    </tr>\n",
       "    <tr>\n",
       "      <th>LU1160358633</th>\n",
       "      <td>-0.009329</td>\n",
       "      <td>0.914286</td>\n",
       "      <td>0.231713</td>\n",
       "      <td>0.439879</td>\n",
       "      <td>-0.210971</td>\n",
       "    </tr>\n",
       "  </tbody>\n",
       "</table>\n",
       "</div>"
      ],
      "text/plain": [
       "              intercept        b1        b2        b3        b4\n",
       "LU0272423913  -0.008023  1.024096  0.121975  0.353952 -0.147123\n",
       "LU0474536744  -0.001022  0.784394  0.241739 -0.164902  0.004499\n",
       "LU0147408487   0.003751  1.144738  0.271514 -0.504375  0.249668\n",
       "LU1160359102  -0.009638  0.914379  0.231066  0.440228 -0.211396\n",
       "LU1160358633  -0.009329  0.914286  0.231713  0.439879 -0.210971"
      ]
     },
     "execution_count": 26,
     "metadata": {},
     "output_type": "execute_result"
    }
   ],
   "source": [
    "params = pd.DataFrame(columns=['intercept', 'b1', 'b2', 'b3','b4'])\n",
    "for col in ff_carhart.columns[5:]:\n",
    "    X = ff_carhart[['Mkt-RF', 'SMB', 'HML', 'MOM']]\n",
    "    y = ff_carhart[col] - ff_carhart['RF']\n",
    "    X = sm.add_constant(X)\n",
    "    ff_model = sm.OLS(y, X).fit()\n",
    "    intercept, b1, b2, b3, b4 = ff_model.params\n",
    "    params.loc[col] =  intercept, b1, b2, b3, b4\n",
    "\n",
    "params.head()"
   ]
  },
  {
   "cell_type": "code",
   "execution_count": 27,
   "metadata": {},
   "outputs": [
    {
     "data": {
      "text/html": [
       "<div>\n",
       "<style scoped>\n",
       "    .dataframe tbody tr th:only-of-type {\n",
       "        vertical-align: middle;\n",
       "    }\n",
       "\n",
       "    .dataframe tbody tr th {\n",
       "        vertical-align: top;\n",
       "    }\n",
       "\n",
       "    .dataframe thead th {\n",
       "        text-align: right;\n",
       "    }\n",
       "</style>\n",
       "<table border=\"1\" class=\"dataframe\">\n",
       "  <thead>\n",
       "    <tr style=\"text-align: right;\">\n",
       "      <th></th>\n",
       "      <th>intercept</th>\n",
       "      <th>b1</th>\n",
       "      <th>b2</th>\n",
       "      <th>b3</th>\n",
       "      <th>b4</th>\n",
       "      <th>market_premium</th>\n",
       "      <th>size_premium</th>\n",
       "      <th>value_premium</th>\n",
       "      <th>momentum</th>\n",
       "    </tr>\n",
       "  </thead>\n",
       "  <tbody>\n",
       "    <tr>\n",
       "      <th>LU0272423913</th>\n",
       "      <td>-0.008023</td>\n",
       "      <td>1.024096</td>\n",
       "      <td>0.121975</td>\n",
       "      <td>0.353952</td>\n",
       "      <td>-0.147123</td>\n",
       "      <td>True</td>\n",
       "      <td>False</td>\n",
       "      <td>False</td>\n",
       "      <td>False</td>\n",
       "    </tr>\n",
       "    <tr>\n",
       "      <th>LU0474536744</th>\n",
       "      <td>-0.001022</td>\n",
       "      <td>0.784394</td>\n",
       "      <td>0.241739</td>\n",
       "      <td>-0.164902</td>\n",
       "      <td>0.004499</td>\n",
       "      <td>False</td>\n",
       "      <td>False</td>\n",
       "      <td>False</td>\n",
       "      <td>False</td>\n",
       "    </tr>\n",
       "    <tr>\n",
       "      <th>LU0147408487</th>\n",
       "      <td>0.003751</td>\n",
       "      <td>1.144738</td>\n",
       "      <td>0.271514</td>\n",
       "      <td>-0.504375</td>\n",
       "      <td>0.249668</td>\n",
       "      <td>True</td>\n",
       "      <td>False</td>\n",
       "      <td>False</td>\n",
       "      <td>False</td>\n",
       "    </tr>\n",
       "    <tr>\n",
       "      <th>LU1160359102</th>\n",
       "      <td>-0.009638</td>\n",
       "      <td>0.914379</td>\n",
       "      <td>0.231066</td>\n",
       "      <td>0.440228</td>\n",
       "      <td>-0.211396</td>\n",
       "      <td>True</td>\n",
       "      <td>False</td>\n",
       "      <td>False</td>\n",
       "      <td>False</td>\n",
       "    </tr>\n",
       "    <tr>\n",
       "      <th>LU1160358633</th>\n",
       "      <td>-0.009329</td>\n",
       "      <td>0.914286</td>\n",
       "      <td>0.231713</td>\n",
       "      <td>0.439879</td>\n",
       "      <td>-0.210971</td>\n",
       "      <td>True</td>\n",
       "      <td>False</td>\n",
       "      <td>False</td>\n",
       "      <td>False</td>\n",
       "    </tr>\n",
       "    <tr>\n",
       "      <th>IE0004866889</th>\n",
       "      <td>0.000069</td>\n",
       "      <td>0.639776</td>\n",
       "      <td>0.504455</td>\n",
       "      <td>-0.158717</td>\n",
       "      <td>0.053159</td>\n",
       "      <td>False</td>\n",
       "      <td>False</td>\n",
       "      <td>False</td>\n",
       "      <td>False</td>\n",
       "    </tr>\n",
       "    <tr>\n",
       "      <th>LU0966156712</th>\n",
       "      <td>-0.001864</td>\n",
       "      <td>0.798717</td>\n",
       "      <td>0.243270</td>\n",
       "      <td>0.441828</td>\n",
       "      <td>-0.342465</td>\n",
       "      <td>False</td>\n",
       "      <td>False</td>\n",
       "      <td>False</td>\n",
       "      <td>False</td>\n",
       "    </tr>\n",
       "    <tr>\n",
       "      <th>LU1048657123</th>\n",
       "      <td>-0.002664</td>\n",
       "      <td>0.802240</td>\n",
       "      <td>0.233181</td>\n",
       "      <td>0.441647</td>\n",
       "      <td>-0.342136</td>\n",
       "      <td>True</td>\n",
       "      <td>False</td>\n",
       "      <td>False</td>\n",
       "      <td>False</td>\n",
       "    </tr>\n",
       "    <tr>\n",
       "      <th>LU0966156399</th>\n",
       "      <td>-0.003259</td>\n",
       "      <td>0.798818</td>\n",
       "      <td>0.237220</td>\n",
       "      <td>0.440362</td>\n",
       "      <td>-0.344118</td>\n",
       "      <td>False</td>\n",
       "      <td>False</td>\n",
       "      <td>False</td>\n",
       "      <td>False</td>\n",
       "    </tr>\n",
       "    <tr>\n",
       "      <th>IE00B03HCY54</th>\n",
       "      <td>-0.001633</td>\n",
       "      <td>1.024484</td>\n",
       "      <td>0.501022</td>\n",
       "      <td>0.082816</td>\n",
       "      <td>0.115962</td>\n",
       "      <td>True</td>\n",
       "      <td>False</td>\n",
       "      <td>False</td>\n",
       "      <td>False</td>\n",
       "    </tr>\n",
       "    <tr>\n",
       "      <th>IE00B19Z3920</th>\n",
       "      <td>-0.004821</td>\n",
       "      <td>0.915050</td>\n",
       "      <td>0.226925</td>\n",
       "      <td>0.390224</td>\n",
       "      <td>-0.111727</td>\n",
       "      <td>True</td>\n",
       "      <td>False</td>\n",
       "      <td>False</td>\n",
       "      <td>False</td>\n",
       "    </tr>\n",
       "    <tr>\n",
       "      <th>IE00B991XL80</th>\n",
       "      <td>-0.005797</td>\n",
       "      <td>0.729689</td>\n",
       "      <td>-0.073456</td>\n",
       "      <td>0.522559</td>\n",
       "      <td>-0.035185</td>\n",
       "      <td>False</td>\n",
       "      <td>False</td>\n",
       "      <td>False</td>\n",
       "      <td>False</td>\n",
       "    </tr>\n",
       "    <tr>\n",
       "      <th>IE00B95WDX70</th>\n",
       "      <td>-0.005543</td>\n",
       "      <td>0.714775</td>\n",
       "      <td>-0.011656</td>\n",
       "      <td>0.503664</td>\n",
       "      <td>-0.072831</td>\n",
       "      <td>False</td>\n",
       "      <td>False</td>\n",
       "      <td>False</td>\n",
       "      <td>False</td>\n",
       "    </tr>\n",
       "    <tr>\n",
       "      <th>LU0625737597</th>\n",
       "      <td>-0.002524</td>\n",
       "      <td>0.758913</td>\n",
       "      <td>0.307089</td>\n",
       "      <td>-0.195885</td>\n",
       "      <td>0.054836</td>\n",
       "      <td>False</td>\n",
       "      <td>False</td>\n",
       "      <td>False</td>\n",
       "      <td>False</td>\n",
       "    </tr>\n",
       "    <tr>\n",
       "      <th>LU0625736946</th>\n",
       "      <td>-0.002171</td>\n",
       "      <td>0.758869</td>\n",
       "      <td>0.309273</td>\n",
       "      <td>-0.197585</td>\n",
       "      <td>0.053960</td>\n",
       "      <td>False</td>\n",
       "      <td>False</td>\n",
       "      <td>False</td>\n",
       "      <td>False</td>\n",
       "    </tr>\n",
       "    <tr>\n",
       "      <th>ES0110182039</th>\n",
       "      <td>-0.008875</td>\n",
       "      <td>0.667258</td>\n",
       "      <td>-0.247999</td>\n",
       "      <td>0.252107</td>\n",
       "      <td>-0.465346</td>\n",
       "      <td>False</td>\n",
       "      <td>False</td>\n",
       "      <td>False</td>\n",
       "      <td>False</td>\n",
       "    </tr>\n",
       "    <tr>\n",
       "      <th>IE00B03HCW31</th>\n",
       "      <td>-0.003037</td>\n",
       "      <td>1.047700</td>\n",
       "      <td>0.546376</td>\n",
       "      <td>0.027525</td>\n",
       "      <td>0.083255</td>\n",
       "      <td>True</td>\n",
       "      <td>False</td>\n",
       "      <td>False</td>\n",
       "      <td>False</td>\n",
       "    </tr>\n",
       "    <tr>\n",
       "      <th>IE0000829451</th>\n",
       "      <td>-0.008927</td>\n",
       "      <td>0.996614</td>\n",
       "      <td>0.169792</td>\n",
       "      <td>0.197164</td>\n",
       "      <td>0.062261</td>\n",
       "      <td>True</td>\n",
       "      <td>False</td>\n",
       "      <td>False</td>\n",
       "      <td>False</td>\n",
       "    </tr>\n",
       "    <tr>\n",
       "      <th>ES0119203018</th>\n",
       "      <td>-0.008429</td>\n",
       "      <td>0.666740</td>\n",
       "      <td>-0.264390</td>\n",
       "      <td>0.246609</td>\n",
       "      <td>-0.475271</td>\n",
       "      <td>False</td>\n",
       "      <td>False</td>\n",
       "      <td>False</td>\n",
       "      <td>False</td>\n",
       "    </tr>\n",
       "    <tr>\n",
       "      <th>LU0823422141</th>\n",
       "      <td>0.001600</td>\n",
       "      <td>0.916794</td>\n",
       "      <td>0.117683</td>\n",
       "      <td>-0.245015</td>\n",
       "      <td>0.081434</td>\n",
       "      <td>True</td>\n",
       "      <td>False</td>\n",
       "      <td>False</td>\n",
       "      <td>False</td>\n",
       "    </tr>\n",
       "    <tr>\n",
       "      <th>LU1394336702</th>\n",
       "      <td>-0.000329</td>\n",
       "      <td>0.163128</td>\n",
       "      <td>-0.027179</td>\n",
       "      <td>0.035353</td>\n",
       "      <td>0.034153</td>\n",
       "      <td>False</td>\n",
       "      <td>False</td>\n",
       "      <td>False</td>\n",
       "      <td>False</td>\n",
       "    </tr>\n",
       "    <tr>\n",
       "      <th>LU0832976624</th>\n",
       "      <td>0.000205</td>\n",
       "      <td>0.041508</td>\n",
       "      <td>0.041009</td>\n",
       "      <td>-0.023514</td>\n",
       "      <td>0.036610</td>\n",
       "      <td>False</td>\n",
       "      <td>False</td>\n",
       "      <td>False</td>\n",
       "      <td>False</td>\n",
       "    </tr>\n",
       "    <tr>\n",
       "      <th>LU0802639707</th>\n",
       "      <td>-0.001640</td>\n",
       "      <td>0.127947</td>\n",
       "      <td>0.016929</td>\n",
       "      <td>0.067055</td>\n",
       "      <td>0.019606</td>\n",
       "      <td>False</td>\n",
       "      <td>False</td>\n",
       "      <td>False</td>\n",
       "      <td>False</td>\n",
       "    </tr>\n",
       "    <tr>\n",
       "      <th>LU0802640978</th>\n",
       "      <td>-0.002463</td>\n",
       "      <td>0.127811</td>\n",
       "      <td>0.017080</td>\n",
       "      <td>0.066956</td>\n",
       "      <td>0.019522</td>\n",
       "      <td>False</td>\n",
       "      <td>False</td>\n",
       "      <td>False</td>\n",
       "      <td>False</td>\n",
       "    </tr>\n",
       "    <tr>\n",
       "      <th>LU0039343222</th>\n",
       "      <td>-0.002149</td>\n",
       "      <td>0.135576</td>\n",
       "      <td>0.008113</td>\n",
       "      <td>0.036583</td>\n",
       "      <td>0.038616</td>\n",
       "      <td>False</td>\n",
       "      <td>False</td>\n",
       "      <td>False</td>\n",
       "      <td>False</td>\n",
       "    </tr>\n",
       "    <tr>\n",
       "      <th>LU1240799699</th>\n",
       "      <td>-0.001796</td>\n",
       "      <td>0.135508</td>\n",
       "      <td>0.008115</td>\n",
       "      <td>0.036512</td>\n",
       "      <td>0.038515</td>\n",
       "      <td>False</td>\n",
       "      <td>False</td>\n",
       "      <td>False</td>\n",
       "      <td>False</td>\n",
       "    </tr>\n",
       "    <tr>\n",
       "      <th>LU0746604445</th>\n",
       "      <td>-0.002120</td>\n",
       "      <td>0.136603</td>\n",
       "      <td>-0.022071</td>\n",
       "      <td>0.002696</td>\n",
       "      <td>0.005660</td>\n",
       "      <td>False</td>\n",
       "      <td>False</td>\n",
       "      <td>False</td>\n",
       "      <td>False</td>\n",
       "    </tr>\n",
       "    <tr>\n",
       "      <th>ES0142167032</th>\n",
       "      <td>-0.001730</td>\n",
       "      <td>0.146539</td>\n",
       "      <td>-0.006885</td>\n",
       "      <td>0.062268</td>\n",
       "      <td>0.015190</td>\n",
       "      <td>False</td>\n",
       "      <td>False</td>\n",
       "      <td>False</td>\n",
       "      <td>False</td>\n",
       "    </tr>\n",
       "    <tr>\n",
       "      <th>LU0963987432</th>\n",
       "      <td>-0.001553</td>\n",
       "      <td>0.193492</td>\n",
       "      <td>0.002178</td>\n",
       "      <td>0.036038</td>\n",
       "      <td>-0.003842</td>\n",
       "      <td>False</td>\n",
       "      <td>False</td>\n",
       "      <td>False</td>\n",
       "      <td>False</td>\n",
       "    </tr>\n",
       "    <tr>\n",
       "      <th>LU0428586845</th>\n",
       "      <td>-0.002295</td>\n",
       "      <td>0.078920</td>\n",
       "      <td>-0.027120</td>\n",
       "      <td>0.005471</td>\n",
       "      <td>0.021051</td>\n",
       "      <td>False</td>\n",
       "      <td>False</td>\n",
       "      <td>False</td>\n",
       "      <td>False</td>\n",
       "    </tr>\n",
       "    <tr>\n",
       "      <th>IE00BLY1N519</th>\n",
       "      <td>-0.002296</td>\n",
       "      <td>0.050671</td>\n",
       "      <td>-0.057687</td>\n",
       "      <td>0.024336</td>\n",
       "      <td>0.007165</td>\n",
       "      <td>False</td>\n",
       "      <td>False</td>\n",
       "      <td>False</td>\n",
       "      <td>False</td>\n",
       "    </tr>\n",
       "    <tr>\n",
       "      <th>IE00BLY27S52</th>\n",
       "      <td>-0.002338</td>\n",
       "      <td>0.052726</td>\n",
       "      <td>-0.053178</td>\n",
       "      <td>0.022670</td>\n",
       "      <td>0.016241</td>\n",
       "      <td>False</td>\n",
       "      <td>False</td>\n",
       "      <td>False</td>\n",
       "      <td>False</td>\n",
       "    </tr>\n",
       "    <tr>\n",
       "      <th>LU0963986467</th>\n",
       "      <td>-0.002110</td>\n",
       "      <td>0.193637</td>\n",
       "      <td>0.001759</td>\n",
       "      <td>0.036044</td>\n",
       "      <td>-0.003699</td>\n",
       "      <td>False</td>\n",
       "      <td>False</td>\n",
       "      <td>False</td>\n",
       "      <td>False</td>\n",
       "    </tr>\n",
       "    <tr>\n",
       "      <th>LU0858297186</th>\n",
       "      <td>-0.003440</td>\n",
       "      <td>0.111167</td>\n",
       "      <td>-0.020250</td>\n",
       "      <td>0.012543</td>\n",
       "      <td>0.007817</td>\n",
       "      <td>False</td>\n",
       "      <td>False</td>\n",
       "      <td>False</td>\n",
       "      <td>False</td>\n",
       "    </tr>\n",
       "    <tr>\n",
       "      <th>IE00BLWF5D72</th>\n",
       "      <td>0.000432</td>\n",
       "      <td>0.049390</td>\n",
       "      <td>-0.062898</td>\n",
       "      <td>0.020706</td>\n",
       "      <td>0.009278</td>\n",
       "      <td>False</td>\n",
       "      <td>False</td>\n",
       "      <td>False</td>\n",
       "      <td>False</td>\n",
       "    </tr>\n",
       "    <tr>\n",
       "      <th>IE00BLWF5F96</th>\n",
       "      <td>0.000620</td>\n",
       "      <td>0.046778</td>\n",
       "      <td>-0.062388</td>\n",
       "      <td>0.023163</td>\n",
       "      <td>0.010264</td>\n",
       "      <td>False</td>\n",
       "      <td>False</td>\n",
       "      <td>False</td>\n",
       "      <td>False</td>\n",
       "    </tr>\n",
       "    <tr>\n",
       "      <th>IE00BHCR9339</th>\n",
       "      <td>0.000197</td>\n",
       "      <td>0.151929</td>\n",
       "      <td>-0.014893</td>\n",
       "      <td>0.034002</td>\n",
       "      <td>0.000680</td>\n",
       "      <td>False</td>\n",
       "      <td>False</td>\n",
       "      <td>False</td>\n",
       "      <td>False</td>\n",
       "    </tr>\n",
       "    <tr>\n",
       "      <th>IE00BCRY5R01</th>\n",
       "      <td>-0.000433</td>\n",
       "      <td>0.151531</td>\n",
       "      <td>-0.015078</td>\n",
       "      <td>0.033665</td>\n",
       "      <td>-0.000145</td>\n",
       "      <td>False</td>\n",
       "      <td>False</td>\n",
       "      <td>False</td>\n",
       "      <td>False</td>\n",
       "    </tr>\n",
       "    <tr>\n",
       "      <th>LU0858297772</th>\n",
       "      <td>-0.002655</td>\n",
       "      <td>0.108720</td>\n",
       "      <td>-0.021048</td>\n",
       "      <td>0.009550</td>\n",
       "      <td>0.003915</td>\n",
       "      <td>False</td>\n",
       "      <td>False</td>\n",
       "      <td>False</td>\n",
       "      <td>False</td>\n",
       "    </tr>\n",
       "    <tr>\n",
       "      <th>LU0963987275</th>\n",
       "      <td>0.000151</td>\n",
       "      <td>0.188372</td>\n",
       "      <td>-0.002916</td>\n",
       "      <td>0.030831</td>\n",
       "      <td>-0.005097</td>\n",
       "      <td>False</td>\n",
       "      <td>False</td>\n",
       "      <td>False</td>\n",
       "      <td>False</td>\n",
       "    </tr>\n",
       "  </tbody>\n",
       "</table>\n",
       "</div>"
      ],
      "text/plain": [
       "              intercept        b1        b2        b3        b4  \\\n",
       "LU0272423913  -0.008023  1.024096  0.121975  0.353952 -0.147123   \n",
       "LU0474536744  -0.001022  0.784394  0.241739 -0.164902  0.004499   \n",
       "LU0147408487   0.003751  1.144738  0.271514 -0.504375  0.249668   \n",
       "LU1160359102  -0.009638  0.914379  0.231066  0.440228 -0.211396   \n",
       "LU1160358633  -0.009329  0.914286  0.231713  0.439879 -0.210971   \n",
       "IE0004866889   0.000069  0.639776  0.504455 -0.158717  0.053159   \n",
       "LU0966156712  -0.001864  0.798717  0.243270  0.441828 -0.342465   \n",
       "LU1048657123  -0.002664  0.802240  0.233181  0.441647 -0.342136   \n",
       "LU0966156399  -0.003259  0.798818  0.237220  0.440362 -0.344118   \n",
       "IE00B03HCY54  -0.001633  1.024484  0.501022  0.082816  0.115962   \n",
       "IE00B19Z3920  -0.004821  0.915050  0.226925  0.390224 -0.111727   \n",
       "IE00B991XL80  -0.005797  0.729689 -0.073456  0.522559 -0.035185   \n",
       "IE00B95WDX70  -0.005543  0.714775 -0.011656  0.503664 -0.072831   \n",
       "LU0625737597  -0.002524  0.758913  0.307089 -0.195885  0.054836   \n",
       "LU0625736946  -0.002171  0.758869  0.309273 -0.197585  0.053960   \n",
       "ES0110182039  -0.008875  0.667258 -0.247999  0.252107 -0.465346   \n",
       "IE00B03HCW31  -0.003037  1.047700  0.546376  0.027525  0.083255   \n",
       "IE0000829451  -0.008927  0.996614  0.169792  0.197164  0.062261   \n",
       "ES0119203018  -0.008429  0.666740 -0.264390  0.246609 -0.475271   \n",
       "LU0823422141   0.001600  0.916794  0.117683 -0.245015  0.081434   \n",
       "LU1394336702  -0.000329  0.163128 -0.027179  0.035353  0.034153   \n",
       "LU0832976624   0.000205  0.041508  0.041009 -0.023514  0.036610   \n",
       "LU0802639707  -0.001640  0.127947  0.016929  0.067055  0.019606   \n",
       "LU0802640978  -0.002463  0.127811  0.017080  0.066956  0.019522   \n",
       "LU0039343222  -0.002149  0.135576  0.008113  0.036583  0.038616   \n",
       "LU1240799699  -0.001796  0.135508  0.008115  0.036512  0.038515   \n",
       "LU0746604445  -0.002120  0.136603 -0.022071  0.002696  0.005660   \n",
       "ES0142167032  -0.001730  0.146539 -0.006885  0.062268  0.015190   \n",
       "LU0963987432  -0.001553  0.193492  0.002178  0.036038 -0.003842   \n",
       "LU0428586845  -0.002295  0.078920 -0.027120  0.005471  0.021051   \n",
       "IE00BLY1N519  -0.002296  0.050671 -0.057687  0.024336  0.007165   \n",
       "IE00BLY27S52  -0.002338  0.052726 -0.053178  0.022670  0.016241   \n",
       "LU0963986467  -0.002110  0.193637  0.001759  0.036044 -0.003699   \n",
       "LU0858297186  -0.003440  0.111167 -0.020250  0.012543  0.007817   \n",
       "IE00BLWF5D72   0.000432  0.049390 -0.062898  0.020706  0.009278   \n",
       "IE00BLWF5F96   0.000620  0.046778 -0.062388  0.023163  0.010264   \n",
       "IE00BHCR9339   0.000197  0.151929 -0.014893  0.034002  0.000680   \n",
       "IE00BCRY5R01  -0.000433  0.151531 -0.015078  0.033665 -0.000145   \n",
       "LU0858297772  -0.002655  0.108720 -0.021048  0.009550  0.003915   \n",
       "LU0963987275   0.000151  0.188372 -0.002916  0.030831 -0.005097   \n",
       "\n",
       "              market_premium  size_premium  value_premium  momentum  \n",
       "LU0272423913            True         False          False     False  \n",
       "LU0474536744           False         False          False     False  \n",
       "LU0147408487            True         False          False     False  \n",
       "LU1160359102            True         False          False     False  \n",
       "LU1160358633            True         False          False     False  \n",
       "IE0004866889           False         False          False     False  \n",
       "LU0966156712           False         False          False     False  \n",
       "LU1048657123            True         False          False     False  \n",
       "LU0966156399           False         False          False     False  \n",
       "IE00B03HCY54            True         False          False     False  \n",
       "IE00B19Z3920            True         False          False     False  \n",
       "IE00B991XL80           False         False          False     False  \n",
       "IE00B95WDX70           False         False          False     False  \n",
       "LU0625737597           False         False          False     False  \n",
       "LU0625736946           False         False          False     False  \n",
       "ES0110182039           False         False          False     False  \n",
       "IE00B03HCW31            True         False          False     False  \n",
       "IE0000829451            True         False          False     False  \n",
       "ES0119203018           False         False          False     False  \n",
       "LU0823422141            True         False          False     False  \n",
       "LU1394336702           False         False          False     False  \n",
       "LU0832976624           False         False          False     False  \n",
       "LU0802639707           False         False          False     False  \n",
       "LU0802640978           False         False          False     False  \n",
       "LU0039343222           False         False          False     False  \n",
       "LU1240799699           False         False          False     False  \n",
       "LU0746604445           False         False          False     False  \n",
       "ES0142167032           False         False          False     False  \n",
       "LU0963987432           False         False          False     False  \n",
       "LU0428586845           False         False          False     False  \n",
       "IE00BLY1N519           False         False          False     False  \n",
       "IE00BLY27S52           False         False          False     False  \n",
       "LU0963986467           False         False          False     False  \n",
       "LU0858297186           False         False          False     False  \n",
       "IE00BLWF5D72           False         False          False     False  \n",
       "IE00BLWF5F96           False         False          False     False  \n",
       "IE00BHCR9339           False         False          False     False  \n",
       "IE00BCRY5R01           False         False          False     False  \n",
       "LU0858297772           False         False          False     False  \n",
       "LU0963987275           False         False          False     False  "
      ]
     },
     "execution_count": 27,
     "metadata": {},
     "output_type": "execute_result"
    }
   ],
   "source": [
    "params['market_premium'] = params['b1'] > 0.8\n",
    "params['size_premium'] = params['b2'] > 0.8\n",
    "params['value_premium'] = params['b3'] > 0.8\n",
    "params['momentum'] = params['b4'] > 0.8\n",
    "\n",
    "params"
   ]
  },
  {
   "cell_type": "code",
   "execution_count": 28,
   "metadata": {},
   "outputs": [],
   "source": [
    "ff_data_estrg_carhart     = ff4_monthly.merge(retornos_estrg,on='Date')"
   ]
  },
  {
   "cell_type": "code",
   "execution_count": 29,
   "metadata": {},
   "outputs": [
    {
     "data": {
      "text/html": [
       "<div>\n",
       "<style scoped>\n",
       "    .dataframe tbody tr th:only-of-type {\n",
       "        vertical-align: middle;\n",
       "    }\n",
       "\n",
       "    .dataframe tbody tr th {\n",
       "        vertical-align: top;\n",
       "    }\n",
       "\n",
       "    .dataframe thead th {\n",
       "        text-align: right;\n",
       "    }\n",
       "</style>\n",
       "<table border=\"1\" class=\"dataframe\">\n",
       "  <thead>\n",
       "    <tr style=\"text-align: right;\">\n",
       "      <th></th>\n",
       "      <th>Mkt-RF</th>\n",
       "      <th>SMB</th>\n",
       "      <th>HML</th>\n",
       "      <th>RF</th>\n",
       "      <th>MOM</th>\n",
       "      <th>Equally Weighted</th>\n",
       "      <th>Momentum 11M</th>\n",
       "      <th>Momentum 1M</th>\n",
       "    </tr>\n",
       "    <tr>\n",
       "      <th>Date</th>\n",
       "      <th></th>\n",
       "      <th></th>\n",
       "      <th></th>\n",
       "      <th></th>\n",
       "      <th></th>\n",
       "      <th></th>\n",
       "      <th></th>\n",
       "      <th></th>\n",
       "    </tr>\n",
       "  </thead>\n",
       "  <tbody>\n",
       "    <tr>\n",
       "      <th>2017-01-31</th>\n",
       "      <td>0.0194</td>\n",
       "      <td>-0.0116</td>\n",
       "      <td>-0.0276</td>\n",
       "      <td>0.0004</td>\n",
       "      <td>-0.0093</td>\n",
       "      <td>0.009885</td>\n",
       "      <td>0.000043</td>\n",
       "      <td>0.016697</td>\n",
       "    </tr>\n",
       "    <tr>\n",
       "      <th>2017-02-28</th>\n",
       "      <td>0.0355</td>\n",
       "      <td>-0.0215</td>\n",
       "      <td>-0.0150</td>\n",
       "      <td>0.0004</td>\n",
       "      <td>-0.0151</td>\n",
       "      <td>0.019965</td>\n",
       "      <td>0.037953</td>\n",
       "      <td>0.038971</td>\n",
       "    </tr>\n",
       "    <tr>\n",
       "      <th>2017-03-31</th>\n",
       "      <td>0.0017</td>\n",
       "      <td>0.0113</td>\n",
       "      <td>-0.0333</td>\n",
       "      <td>0.0003</td>\n",
       "      <td>-0.0097</td>\n",
       "      <td>0.008535</td>\n",
       "      <td>0.000685</td>\n",
       "      <td>0.026026</td>\n",
       "    </tr>\n",
       "    <tr>\n",
       "      <th>2017-04-30</th>\n",
       "      <td>0.0108</td>\n",
       "      <td>0.0066</td>\n",
       "      <td>-0.0205</td>\n",
       "      <td>0.0005</td>\n",
       "      <td>0.0048</td>\n",
       "      <td>0.005362</td>\n",
       "      <td>0.008857</td>\n",
       "      <td>0.029557</td>\n",
       "    </tr>\n",
       "    <tr>\n",
       "      <th>2017-05-31</th>\n",
       "      <td>0.0107</td>\n",
       "      <td>-0.0252</td>\n",
       "      <td>-0.0382</td>\n",
       "      <td>0.0006</td>\n",
       "      <td>0.0150</td>\n",
       "      <td>0.005023</td>\n",
       "      <td>0.038856</td>\n",
       "      <td>0.036274</td>\n",
       "    </tr>\n",
       "  </tbody>\n",
       "</table>\n",
       "</div>"
      ],
      "text/plain": [
       "            Mkt-RF     SMB     HML      RF     MOM  Equally Weighted  \\\n",
       "Date                                                                   \n",
       "2017-01-31  0.0194 -0.0116 -0.0276  0.0004 -0.0093          0.009885   \n",
       "2017-02-28  0.0355 -0.0215 -0.0150  0.0004 -0.0151          0.019965   \n",
       "2017-03-31  0.0017  0.0113 -0.0333  0.0003 -0.0097          0.008535   \n",
       "2017-04-30  0.0108  0.0066 -0.0205  0.0005  0.0048          0.005362   \n",
       "2017-05-31  0.0107 -0.0252 -0.0382  0.0006  0.0150          0.005023   \n",
       "\n",
       "            Momentum 11M  Momentum 1M  \n",
       "Date                                   \n",
       "2017-01-31      0.000043     0.016697  \n",
       "2017-02-28      0.037953     0.038971  \n",
       "2017-03-31      0.000685     0.026026  \n",
       "2017-04-30      0.008857     0.029557  \n",
       "2017-05-31      0.038856     0.036274  "
      ]
     },
     "execution_count": 29,
     "metadata": {},
     "output_type": "execute_result"
    }
   ],
   "source": [
    "ff_data_estrg_carhart.head()"
   ]
  },
  {
   "cell_type": "code",
   "execution_count": 30,
   "metadata": {},
   "outputs": [],
   "source": [
    "params_estrg_carhart = pd.DataFrame(columns=['intercept', 'b1', 'b2', 'b3','b4'])\n",
    "for col in ff_data_estrg_carhart.columns[5:]:\n",
    "    X = ff_data_estrg_carhart[['Mkt-RF', 'SMB', 'HML', 'MOM']]\n",
    "    y = ff_data_estrg_carhart[col] - ff_data_estrg_carhart['RF']\n",
    "    X = sm.add_constant(X)\n",
    "    ff_model = sm.OLS(y, X).fit()\n",
    "    intercept, b1, b2, b3, b4 = ff_model.params\n",
    "    params_estrg_carhart.loc[col] =  intercept, b1, b2, b3, b4"
   ]
  },
  {
   "cell_type": "code",
   "execution_count": 31,
   "metadata": {},
   "outputs": [
    {
     "data": {
      "text/html": [
       "<div>\n",
       "<style scoped>\n",
       "    .dataframe tbody tr th:only-of-type {\n",
       "        vertical-align: middle;\n",
       "    }\n",
       "\n",
       "    .dataframe tbody tr th {\n",
       "        vertical-align: top;\n",
       "    }\n",
       "\n",
       "    .dataframe thead th {\n",
       "        text-align: right;\n",
       "    }\n",
       "</style>\n",
       "<table border=\"1\" class=\"dataframe\">\n",
       "  <thead>\n",
       "    <tr style=\"text-align: right;\">\n",
       "      <th></th>\n",
       "      <th>intercept</th>\n",
       "      <th>b1</th>\n",
       "      <th>b2</th>\n",
       "      <th>b3</th>\n",
       "      <th>b4</th>\n",
       "      <th>market_premium</th>\n",
       "      <th>size_premium</th>\n",
       "      <th>value_premium</th>\n",
       "      <th>momentum</th>\n",
       "    </tr>\n",
       "  </thead>\n",
       "  <tbody>\n",
       "    <tr>\n",
       "      <th>Equally Weighted</th>\n",
       "      <td>-0.002205</td>\n",
       "      <td>0.482212</td>\n",
       "      <td>0.116730</td>\n",
       "      <td>0.128580</td>\n",
       "      <td>-0.024852</td>\n",
       "      <td>False</td>\n",
       "      <td>False</td>\n",
       "      <td>False</td>\n",
       "      <td>False</td>\n",
       "    </tr>\n",
       "    <tr>\n",
       "      <th>Momentum 11M</th>\n",
       "      <td>0.001349</td>\n",
       "      <td>0.906820</td>\n",
       "      <td>0.245571</td>\n",
       "      <td>0.054153</td>\n",
       "      <td>0.320792</td>\n",
       "      <td>True</td>\n",
       "      <td>False</td>\n",
       "      <td>False</td>\n",
       "      <td>False</td>\n",
       "    </tr>\n",
       "    <tr>\n",
       "      <th>Momentum 1M</th>\n",
       "      <td>0.000219</td>\n",
       "      <td>0.578509</td>\n",
       "      <td>-0.046651</td>\n",
       "      <td>0.038617</td>\n",
       "      <td>0.104302</td>\n",
       "      <td>False</td>\n",
       "      <td>False</td>\n",
       "      <td>False</td>\n",
       "      <td>False</td>\n",
       "    </tr>\n",
       "  </tbody>\n",
       "</table>\n",
       "</div>"
      ],
      "text/plain": [
       "                  intercept        b1        b2        b3        b4  \\\n",
       "Equally Weighted  -0.002205  0.482212  0.116730  0.128580 -0.024852   \n",
       "Momentum 11M       0.001349  0.906820  0.245571  0.054153  0.320792   \n",
       "Momentum 1M        0.000219  0.578509 -0.046651  0.038617  0.104302   \n",
       "\n",
       "                  market_premium  size_premium  value_premium  momentum  \n",
       "Equally Weighted           False         False          False     False  \n",
       "Momentum 11M                True         False          False     False  \n",
       "Momentum 1M                False         False          False     False  "
      ]
     },
     "execution_count": 31,
     "metadata": {},
     "output_type": "execute_result"
    }
   ],
   "source": [
    "params_estrg_carhart['market_premium'] = params_estrg_carhart['b1'] > 0.8\n",
    "params_estrg_carhart['size_premium']   = params_estrg_carhart['b2'] > 0.8\n",
    "params_estrg_carhart['value_premium']  = params_estrg_carhart['b3'] > 0.8\n",
    "params_estrg_carhart['momentum']       = params_estrg_carhart['b4'] > 0.8\n",
    "\n",
    "params_estrg_carhart.head()\n"
   ]
  }
 ],
 "metadata": {
  "kernelspec": {
   "display_name": "base",
   "language": "python",
   "name": "python3"
  },
  "language_info": {
   "codemirror_mode": {
    "name": "ipython",
    "version": 3
   },
   "file_extension": ".py",
   "mimetype": "text/x-python",
   "name": "python",
   "nbconvert_exporter": "python",
   "pygments_lexer": "ipython3",
   "version": "3.12.7"
  }
 },
 "nbformat": 4,
 "nbformat_minor": 2
}
